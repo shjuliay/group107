{
 "cells": [
  {
   "cell_type": "markdown",
   "id": "4a1d3467-66ad-4ba6-9ffd-887e4de11ee8",
   "metadata": {},
   "source": [
    "Preliminary exploratory data analysis:"
   ]
  },
  {
   "cell_type": "code",
   "execution_count": 20,
   "id": "1a9fb192-64dd-4378-9813-23b73b5b4cdb",
   "metadata": {},
   "outputs": [],
   "source": [
    "library(repr)\n",
    "library(tidyverse)\n",
    "options(repr.matrix.max.rows = 6) #limits output of dataframes to 6 row"
   ]
  },
  {
   "cell_type": "code",
   "execution_count": 27,
   "id": "5e760562-3c72-4a51-b4bb-78769302a5d7",
   "metadata": {},
   "outputs": [
    {
     "name": "stderr",
     "output_type": "stream",
     "text": [
      "\u001b[36mℹ\u001b[39m Using \u001b[34m\u001b[34m\"','\"\u001b[34m\u001b[39m as decimal and \u001b[34m\u001b[34m\"'.'\"\u001b[34m\u001b[39m as grouping mark. Use `read_delim()` for more control.\n",
      "\n",
      "\u001b[1mRows: \u001b[22m\u001b[34m170\u001b[39m \u001b[1mColumns: \u001b[22m\u001b[34m55\u001b[39m\n",
      "\u001b[36m──\u001b[39m \u001b[1mColumn specification\u001b[22m \u001b[36m────────────────────────────────────────────────────────\u001b[39m\n",
      "\u001b[1mDelimiter:\u001b[22m \";\"\n",
      "\u001b[32mdbl\u001b[39m (55): Atr1, Atr2, Atr3, Atr4, Atr5, Atr6, Atr7, Atr8, Atr9, Atr10, Atr11...\n",
      "\n",
      "\u001b[36mℹ\u001b[39m Use `spec()` to retrieve the full column specification for this data.\n",
      "\u001b[36mℹ\u001b[39m Specify the column types or set `show_col_types = FALSE` to quiet this message.\n"
     ]
    },
    {
     "data": {
      "text/html": [
       "'Divorce data:'"
      ],
      "text/latex": [
       "'Divorce data:'"
      ],
      "text/markdown": [
       "'Divorce data:'"
      ],
      "text/plain": [
       "[1] \"Divorce data:\""
      ]
     },
     "metadata": {},
     "output_type": "display_data"
    },
    {
     "data": {
      "text/html": [
       "<table class=\"dataframe\">\n",
       "<caption>A tibble: 170 × 7</caption>\n",
       "<thead>\n",
       "\t<tr><th scope=col>Atr2</th><th scope=col>Atr6</th><th scope=col>Atr11</th><th scope=col>Atr18</th><th scope=col>Atr26</th><th scope=col>Atr40</th><th scope=col>Divorced</th></tr>\n",
       "\t<tr><th scope=col>&lt;dbl&gt;</th><th scope=col>&lt;dbl&gt;</th><th scope=col>&lt;dbl&gt;</th><th scope=col>&lt;dbl&gt;</th><th scope=col>&lt;dbl&gt;</th><th scope=col>&lt;dbl&gt;</th><th scope=col>&lt;fct&gt;</th></tr>\n",
       "</thead>\n",
       "<tbody>\n",
       "\t<tr><td>2</td><td>0</td><td>1</td><td>0</td><td>0</td><td>3</td><td>1</td></tr>\n",
       "\t<tr><td>4</td><td>0</td><td>4</td><td>4</td><td>1</td><td>4</td><td>1</td></tr>\n",
       "\t<tr><td>2</td><td>3</td><td>3</td><td>3</td><td>2</td><td>3</td><td>1</td></tr>\n",
       "\t<tr><td>⋮</td><td>⋮</td><td>⋮</td><td>⋮</td><td>⋮</td><td>⋮</td><td>⋮</td></tr>\n",
       "\t<tr><td>1</td><td>0</td><td>0</td><td>0</td><td>1</td><td>2</td><td>0</td></tr>\n",
       "\t<tr><td>0</td><td>0</td><td>0</td><td>0</td><td>0</td><td>1</td><td>0</td></tr>\n",
       "\t<tr><td>0</td><td>0</td><td>0</td><td>0</td><td>0</td><td>0</td><td>0</td></tr>\n",
       "</tbody>\n",
       "</table>\n"
      ],
      "text/latex": [
       "A tibble: 170 × 7\n",
       "\\begin{tabular}{lllllll}\n",
       " Atr2 & Atr6 & Atr11 & Atr18 & Atr26 & Atr40 & Divorced\\\\\n",
       " <dbl> & <dbl> & <dbl> & <dbl> & <dbl> & <dbl> & <fct>\\\\\n",
       "\\hline\n",
       "\t 2 & 0 & 1 & 0 & 0 & 3 & 1\\\\\n",
       "\t 4 & 0 & 4 & 4 & 1 & 4 & 1\\\\\n",
       "\t 2 & 3 & 3 & 3 & 2 & 3 & 1\\\\\n",
       "\t ⋮ & ⋮ & ⋮ & ⋮ & ⋮ & ⋮ & ⋮\\\\\n",
       "\t 1 & 0 & 0 & 0 & 1 & 2 & 0\\\\\n",
       "\t 0 & 0 & 0 & 0 & 0 & 1 & 0\\\\\n",
       "\t 0 & 0 & 0 & 0 & 0 & 0 & 0\\\\\n",
       "\\end{tabular}\n"
      ],
      "text/markdown": [
       "\n",
       "A tibble: 170 × 7\n",
       "\n",
       "| Atr2 &lt;dbl&gt; | Atr6 &lt;dbl&gt; | Atr11 &lt;dbl&gt; | Atr18 &lt;dbl&gt; | Atr26 &lt;dbl&gt; | Atr40 &lt;dbl&gt; | Divorced &lt;fct&gt; |\n",
       "|---|---|---|---|---|---|---|\n",
       "| 2 | 0 | 1 | 0 | 0 | 3 | 1 |\n",
       "| 4 | 0 | 4 | 4 | 1 | 4 | 1 |\n",
       "| 2 | 3 | 3 | 3 | 2 | 3 | 1 |\n",
       "| ⋮ | ⋮ | ⋮ | ⋮ | ⋮ | ⋮ | ⋮ |\n",
       "| 1 | 0 | 0 | 0 | 1 | 2 | 0 |\n",
       "| 0 | 0 | 0 | 0 | 0 | 1 | 0 |\n",
       "| 0 | 0 | 0 | 0 | 0 | 0 | 0 |\n",
       "\n"
      ],
      "text/plain": [
       "    Atr2 Atr6 Atr11 Atr18 Atr26 Atr40 Divorced\n",
       "1   2    0    1     0     0     3     1       \n",
       "2   4    0    4     4     1     4     1       \n",
       "3   2    3    3     3     2     3     1       \n",
       "⋮   ⋮    ⋮    ⋮     ⋮     ⋮     ⋮     ⋮       \n",
       "168 1    0    0     0     1     2     0       \n",
       "169 0    0    0     0     0     1     0       \n",
       "170 0    0    0     0     0     0     0       "
      ]
     },
     "metadata": {},
     "output_type": "display_data"
    },
    {
     "data": {
      "text/html": [
       "'Mean answers for both divorced and not divorced:'"
      ],
      "text/latex": [
       "'Mean answers for both divorced and not divorced:'"
      ],
      "text/markdown": [
       "'Mean answers for both divorced and not divorced:'"
      ],
      "text/plain": [
       "[1] \"Mean answers for both divorced and not divorced:\""
      ]
     },
     "metadata": {},
     "output_type": "display_data"
    },
    {
     "data": {
      "text/html": [
       "<table class=\"dataframe\">\n",
       "<caption>A tibble: 1 × 6</caption>\n",
       "<thead>\n",
       "\t<tr><th scope=col>Atr2</th><th scope=col>Atr6</th><th scope=col>Atr11</th><th scope=col>Atr18</th><th scope=col>Atr26</th><th scope=col>Atr40</th></tr>\n",
       "\t<tr><th scope=col>&lt;dbl&gt;</th><th scope=col>&lt;dbl&gt;</th><th scope=col>&lt;dbl&gt;</th><th scope=col>&lt;dbl&gt;</th><th scope=col>&lt;dbl&gt;</th><th scope=col>&lt;dbl&gt;</th></tr>\n",
       "</thead>\n",
       "<tbody>\n",
       "\t<tr><td>1.652941</td><td>0.7470588</td><td>1.688235</td><td>1.517647</td><td>1.488235</td><td>1.870588</td></tr>\n",
       "</tbody>\n",
       "</table>\n"
      ],
      "text/latex": [
       "A tibble: 1 × 6\n",
       "\\begin{tabular}{llllll}\n",
       " Atr2 & Atr6 & Atr11 & Atr18 & Atr26 & Atr40\\\\\n",
       " <dbl> & <dbl> & <dbl> & <dbl> & <dbl> & <dbl>\\\\\n",
       "\\hline\n",
       "\t 1.652941 & 0.7470588 & 1.688235 & 1.517647 & 1.488235 & 1.870588\\\\\n",
       "\\end{tabular}\n"
      ],
      "text/markdown": [
       "\n",
       "A tibble: 1 × 6\n",
       "\n",
       "| Atr2 &lt;dbl&gt; | Atr6 &lt;dbl&gt; | Atr11 &lt;dbl&gt; | Atr18 &lt;dbl&gt; | Atr26 &lt;dbl&gt; | Atr40 &lt;dbl&gt; |\n",
       "|---|---|---|---|---|---|\n",
       "| 1.652941 | 0.7470588 | 1.688235 | 1.517647 | 1.488235 | 1.870588 |\n",
       "\n"
      ],
      "text/plain": [
       "  Atr2     Atr6      Atr11    Atr18    Atr26    Atr40   \n",
       "1 1.652941 0.7470588 1.688235 1.517647 1.488235 1.870588"
      ]
     },
     "metadata": {},
     "output_type": "display_data"
    },
    {
     "data": {
      "text/html": [
       "'Mean answers for divorced:'"
      ],
      "text/latex": [
       "'Mean answers for divorced:'"
      ],
      "text/markdown": [
       "'Mean answers for divorced:'"
      ],
      "text/plain": [
       "[1] \"Mean answers for divorced:\""
      ]
     },
     "metadata": {},
     "output_type": "display_data"
    },
    {
     "data": {
      "text/html": [
       "<table class=\"dataframe\">\n",
       "<caption>A tibble: 6 × 2</caption>\n",
       "<thead>\n",
       "\t<tr><th scope=col>Atribute</th><th scope=col>value</th></tr>\n",
       "\t<tr><th scope=col>&lt;chr&gt;</th><th scope=col>&lt;dbl&gt;</th></tr>\n",
       "</thead>\n",
       "<tbody>\n",
       "\t<tr><td>Atr2 </td><td>1.6529412</td></tr>\n",
       "\t<tr><td>Atr6 </td><td>0.7470588</td></tr>\n",
       "\t<tr><td>Atr11</td><td>1.6882353</td></tr>\n",
       "\t<tr><td>Atr18</td><td>1.5176471</td></tr>\n",
       "\t<tr><td>Atr26</td><td>1.4882353</td></tr>\n",
       "\t<tr><td>Atr40</td><td>1.8705882</td></tr>\n",
       "</tbody>\n",
       "</table>\n"
      ],
      "text/latex": [
       "A tibble: 6 × 2\n",
       "\\begin{tabular}{ll}\n",
       " Atribute & value\\\\\n",
       " <chr> & <dbl>\\\\\n",
       "\\hline\n",
       "\t Atr2  & 1.6529412\\\\\n",
       "\t Atr6  & 0.7470588\\\\\n",
       "\t Atr11 & 1.6882353\\\\\n",
       "\t Atr18 & 1.5176471\\\\\n",
       "\t Atr26 & 1.4882353\\\\\n",
       "\t Atr40 & 1.8705882\\\\\n",
       "\\end{tabular}\n"
      ],
      "text/markdown": [
       "\n",
       "A tibble: 6 × 2\n",
       "\n",
       "| Atribute &lt;chr&gt; | value &lt;dbl&gt; |\n",
       "|---|---|\n",
       "| Atr2  | 1.6529412 |\n",
       "| Atr6  | 0.7470588 |\n",
       "| Atr11 | 1.6882353 |\n",
       "| Atr18 | 1.5176471 |\n",
       "| Atr26 | 1.4882353 |\n",
       "| Atr40 | 1.8705882 |\n",
       "\n"
      ],
      "text/plain": [
       "  Atribute value    \n",
       "1 Atr2     1.6529412\n",
       "2 Atr6     0.7470588\n",
       "3 Atr11    1.6882353\n",
       "4 Atr18    1.5176471\n",
       "5 Atr26    1.4882353\n",
       "6 Atr40    1.8705882"
      ]
     },
     "metadata": {},
     "output_type": "display_data"
    },
    {
     "data": {
      "text/html": [
       "'Mean answers for not divorced:'"
      ],
      "text/latex": [
       "'Mean answers for not divorced:'"
      ],
      "text/markdown": [
       "'Mean answers for not divorced:'"
      ],
      "text/plain": [
       "[1] \"Mean answers for not divorced:\""
      ]
     },
     "metadata": {},
     "output_type": "display_data"
    },
    {
     "data": {
      "text/html": [
       "<table class=\"dataframe\">\n",
       "<caption>A tibble: 6 × 2</caption>\n",
       "<thead>\n",
       "\t<tr><th scope=col>Atribute</th><th scope=col>value</th></tr>\n",
       "\t<tr><th scope=col>&lt;chr&gt;</th><th scope=col>&lt;dbl&gt;</th></tr>\n",
       "</thead>\n",
       "<tbody>\n",
       "\t<tr><td>Atr2 </td><td>0.46511628</td></tr>\n",
       "\t<tr><td>Atr6 </td><td>0.37209302</td></tr>\n",
       "\t<tr><td>Atr11</td><td>0.19767442</td></tr>\n",
       "\t<tr><td>Atr18</td><td>0.09302326</td></tr>\n",
       "\t<tr><td>Atr26</td><td>0.19767442</td></tr>\n",
       "\t<tr><td>Atr40</td><td>0.20930233</td></tr>\n",
       "</tbody>\n",
       "</table>\n"
      ],
      "text/latex": [
       "A tibble: 6 × 2\n",
       "\\begin{tabular}{ll}\n",
       " Atribute & value\\\\\n",
       " <chr> & <dbl>\\\\\n",
       "\\hline\n",
       "\t Atr2  & 0.46511628\\\\\n",
       "\t Atr6  & 0.37209302\\\\\n",
       "\t Atr11 & 0.19767442\\\\\n",
       "\t Atr18 & 0.09302326\\\\\n",
       "\t Atr26 & 0.19767442\\\\\n",
       "\t Atr40 & 0.20930233\\\\\n",
       "\\end{tabular}\n"
      ],
      "text/markdown": [
       "\n",
       "A tibble: 6 × 2\n",
       "\n",
       "| Atribute &lt;chr&gt; | value &lt;dbl&gt; |\n",
       "|---|---|\n",
       "| Atr2  | 0.46511628 |\n",
       "| Atr6  | 0.37209302 |\n",
       "| Atr11 | 0.19767442 |\n",
       "| Atr18 | 0.09302326 |\n",
       "| Atr26 | 0.19767442 |\n",
       "| Atr40 | 0.20930233 |\n",
       "\n"
      ],
      "text/plain": [
       "  Atribute value     \n",
       "1 Atr2     0.46511628\n",
       "2 Atr6     0.37209302\n",
       "3 Atr11    0.19767442\n",
       "4 Atr18    0.09302326\n",
       "5 Atr26    0.19767442\n",
       "6 Atr40    0.20930233"
      ]
     },
     "metadata": {},
     "output_type": "display_data"
    },
    {
     "data": {
      "text/html": [
       "'No rows have missing data.'"
      ],
      "text/latex": [
       "'No rows have missing data.'"
      ],
      "text/markdown": [
       "'No rows have missing data.'"
      ],
      "text/plain": [
       "[1] \"No rows have missing data.\""
      ]
     },
     "metadata": {},
     "output_type": "display_data"
    },
    {
     "data": {
      "image/png": "[encoded data removed]",
      "text/plain": [
       "plot without title"
      ]
     },
     "metadata": {
      "image/png": {
       "height": 420,
       "width": 420
      }
     },
     "output_type": "display_data"
    },
    {
     "data": {
      "image/png": "[encoded data removed]",
      "text/plain": [
       "plot without title"
      ]
     },
     "metadata": {
      "image/png": {
       "height": 420,
       "width": 420
      }
     },
     "output_type": "display_data"
    }
   ],
   "source": [
    "#Reading in the data from github\n",
    "div_data <- read_csv2(\"https://raw.githubusercontent.com/shjuliay/group107/main/divorce%20(1).csv\") %>%\n",
    "mutate(Divorced = as.factor(Class)) %>%\n",
    "select(Atr2, Atr6, Atr11, Atr18, Atr26, Atr40, Divorced)\n",
    "\n",
    "\"Divorce data:\"\n",
    "div_data\n",
    "\n",
    "#Creating a table of the number of divorced and not divorced\n",
    "div_sum <- div_data %>%\n",
    "group_by(Divorced) %>%\n",
    "    summarize(n = n())\n",
    "#div_sum\n",
    "\n",
    "\n",
    "#Creating a table for the mean answer for each question\n",
    "atr_sum <- div_data %>%\n",
    "select(Atr2, Atr6, Atr11, Atr18, Atr26, Atr40) %>%\n",
    "map_df(mean) \n",
    "\n",
    "\"Mean answers for both divorced and not divorced:\"\n",
    "atr_sum\n",
    "\n",
    "\n",
    "#Creating a table for the mean answer for each question: divorced\n",
    "sum_div <- div_data %>%\n",
    "select(-Divorced) %>%\n",
    "    map_df(mean)\n",
    "#sum_div\n",
    "\n",
    "sum_div_longer <- sum_div %>%\n",
    "pivot_longer(cols = (c(Atr2, Atr6, Atr11, Atr18, Atr26, Atr40)),\n",
    "             names_to = \"Atribute\")\n",
    "\n",
    "\"Mean answers for divorced:\"\n",
    "sum_div_longer\n",
    "\n",
    "\n",
    "#Creating a table for the mean answer for each question: not divorced\n",
    "sum_notdiv <- div_data %>%\n",
    "filter(Divorced == 0) %>%\n",
    "select(-Divorced) %>%\n",
    "    map_df(mean) \n",
    "#sum_notdiv\n",
    "\n",
    "sum_notdiv_longer <- sum_notdiv %>%\n",
    "pivot_longer(cols = (c(Atr2, Atr6, Atr11, Atr18, Atr26, Atr40)),\n",
    "             names_to = \"Atribute\")\n",
    "\n",
    "\"Mean answers for not divorced:\"\n",
    "sum_notdiv_longer\n",
    "\n",
    "\"No rows have missing data.\"\n",
    "\n",
    "#creating visualizations of 6 predictor questions\n",
    "sum_div_bar <- sum_div_longer %>%\n",
    "ggplot(aes(x = Atribute, y = value)) +\n",
    "geom_bar(stat = \"identity\") +\n",
    "labs(x = \"Questions\", y = \"Mean Answer\") +\n",
    "theme(text = element_text(size = 20)) +\n",
    "ggtitle(\"Mean Answers (divorced)\")\n",
    "sum_div_bar\n",
    "\n",
    "sum_notdiv_bar <- sum_notdiv_longer %>%\n",
    "ggplot(aes(x = Atribute, y = value)) +\n",
    "geom_bar(stat = \"identity\") +\n",
    "labs(x = \"Questions\", y = \"Mean Answer\") +\n",
    "theme(text = element_text(size = 20)) +\n",
    "ggtitle(\"Mean Answers (not divorced)\")\n",
    "sum_notdiv_bar"
   ]
  },
  {
   "cell_type": "code",
   "execution_count": 22,
   "id": "6c6140b4-08e0-451e-b24d-c7fd60e942dd",
   "metadata": {},
   "outputs": [
    {
     "name": "stderr",
     "output_type": "stream",
     "text": [
      "\u001b[1mRows: \u001b[22m\u001b[34m55\u001b[39m \u001b[1mColumns: \u001b[22m\u001b[34m2\u001b[39m\n",
      "\u001b[36m──\u001b[39m \u001b[1mColumn specification\u001b[22m \u001b[36m────────────────────────────────────────────────────────\u001b[39m\n",
      "\u001b[1mDelimiter:\u001b[22m \":\"\n",
      "\u001b[31mchr\u001b[39m (1): X2\n",
      "\u001b[32mdbl\u001b[39m (1): X1\n",
      "\n",
      "\u001b[36mℹ\u001b[39m Use `spec()` to retrieve the full column specification for this data.\n",
      "\u001b[36mℹ\u001b[39m Specify the column types or set `show_col_types = FALSE` to quiet this message.\n"
     ]
    },
    {
     "data": {
      "text/html": [
       "<table class=\"dataframe\">\n",
       "<caption>A tibble: 6 × 2</caption>\n",
       "<thead>\n",
       "\t<tr><th scope=col>QuestionNumber</th><th scope=col>Question</th></tr>\n",
       "\t<tr><th scope=col>&lt;dbl&gt;</th><th scope=col>&lt;chr&gt;</th></tr>\n",
       "</thead>\n",
       "<tbody>\n",
       "\t<tr><td> 2</td><td>I know we can ignore our differences, even if things get hard sometimes.                                              </td></tr>\n",
       "\t<tr><td> 6</td><td>We don't have time at home as partners.                                                                               </td></tr>\n",
       "\t<tr><td>11</td><td>I think that one day in the future, when I look back, I see that my spouse and I have been in harmony with each other.</td></tr>\n",
       "\t<tr><td>18</td><td>My spouse and I have similar ideas about how marriage should be                                                       </td></tr>\n",
       "\t<tr><td>26</td><td>I know my spouse's basic anxieties.                                                                                   </td></tr>\n",
       "\t<tr><td>40</td><td>We're just starting a discussion before I know what's going on.                                                       </td></tr>\n",
       "</tbody>\n",
       "</table>\n"
      ],
      "text/latex": [
       "A tibble: 6 × 2\n",
       "\\begin{tabular}{ll}\n",
       " QuestionNumber & Question\\\\\n",
       " <dbl> & <chr>\\\\\n",
       "\\hline\n",
       "\t  2 & I know we can ignore our differences, even if things get hard sometimes.                                              \\\\\n",
       "\t  6 & We don't have time at home as partners.                                                                               \\\\\n",
       "\t 11 & I think that one day in the future, when I look back, I see that my spouse and I have been in harmony with each other.\\\\\n",
       "\t 18 & My spouse and I have similar ideas about how marriage should be                                                       \\\\\n",
       "\t 26 & I know my spouse's basic anxieties.                                                                                   \\\\\n",
       "\t 40 & We're just starting a discussion before I know what's going on.                                                       \\\\\n",
       "\\end{tabular}\n"
      ],
      "text/markdown": [
       "\n",
       "A tibble: 6 × 2\n",
       "\n",
       "| QuestionNumber &lt;dbl&gt; | Question &lt;chr&gt; |\n",
       "|---|---|\n",
       "|  2 | I know we can ignore our differences, even if things get hard sometimes.                                               |\n",
       "|  6 | We don't have time at home as partners.                                                                                |\n",
       "| 11 | I think that one day in the future, when I look back, I see that my spouse and I have been in harmony with each other. |\n",
       "| 18 | My spouse and I have similar ideas about how marriage should be                                                        |\n",
       "| 26 | I know my spouse's basic anxieties.                                                                                    |\n",
       "| 40 | We're just starting a discussion before I know what's going on.                                                        |\n",
       "\n"
      ],
      "text/plain": [
       "  QuestionNumber\n",
       "1  2            \n",
       "2  6            \n",
       "3 11            \n",
       "4 18            \n",
       "5 26            \n",
       "6 40            \n",
       "  Question                                                                                                              \n",
       "1 I know we can ignore our differences, even if things get hard sometimes.                                              \n",
       "2 We don't have time at home as partners.                                                                               \n",
       "3 I think that one day in the future, when I look back, I see that my spouse and I have been in harmony with each other.\n",
       "4 My spouse and I have similar ideas about how marriage should be                                                       \n",
       "5 I know my spouse's basic anxieties.                                                                                   \n",
       "6 We're just starting a discussion before I know what's going on.                                                       "
      ]
     },
     "metadata": {},
     "output_type": "display_data"
    }
   ],
   "source": [
    "#Reading in the questions\n",
    "div_questions <- read_delim(\"https://raw.githubusercontent.com/shjuliay/group107/main/DivorceQuestions.txt\", delim = \":\", col_names = FALSE) %>%\n",
    "mutate(QuestionNumber = X1, Question = X2) %>%\n",
    "select(QuestionNumber, Question)\n",
    "#div_questions\n",
    "\n",
    "div_6questions <- div_questions %>%\n",
    "filter(QuestionNumber == 2 | QuestionNumber == 6 | QuestionNumber == 11 | QuestionNumber == 18 | QuestionNumber == 26 | QuestionNumber == 40)\n",
    "div_6questions"
   ]
  }
 ],
 "metadata": {
  "kernelspec": {
   "display_name": "R",
   "language": "R",
   "name": "ir"
  },
  "language_info": {
   "codemirror_mode": "r",
   "file_extension": ".r",
   "mimetype": "text/x-r-source",
   "name": "R",
   "pygments_lexer": "r",
   "version": "4.1.3"
  }
 },
 "nbformat": 4,
 "nbformat_minor": 5
}
