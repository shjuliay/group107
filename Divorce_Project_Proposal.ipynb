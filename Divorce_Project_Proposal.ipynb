{
 "cells": [
  {
   "cell_type": "markdown",
   "id": "15aa0e27-15b5-4f8a-a13d-433c629b2f8a",
   "metadata": {},
   "source": [
    "INTRODUCTION \n",
    "\n",
    "Divorce Predictors Scale (DPS) was used to carry out divorce predictions on the basis of Gottman couples therapy. Of the participants, 84 (49%) were divorced and 86 (51%) were married couples and were made to complete a “Personal Information Form” and “Divorce Predictors Scale”, answering a series of questions relating to their perception of their relationship on a scale of 0-4, pertaining to how much one agrees with the statement given.\n",
    "Our study aims to find the accuracy of the significant questions in the Divorce Predictors Scale that affect divorce. In our study, we will be using 6 most signifiance questions obtained from the \"DIVORCE PREDICTION USING CORRELATION BASED FEATURE SELECTION AND ARTIFICIAL NEURAL NETWORKS\" study, and apply a direct classification model to answer our research question. Our research question is as follows:\n",
    "\"Based on one's answers to the 6 questions, what is their likelyhood that their marriage will end in divorce?\" \n",
    "\n",
    "Dataset provided by our source is of a zip format. Since they are difficult to load into R, we first converted the original zip file into a csv fil, and have link the zip file and the reformatted csv file in our methods section. \n",
    " The six most significant attirbutes with their signifiance found in the above study are shown below.\n"
   ]
  },
  {
   "cell_type": "code",
   "execution_count": 1,
   "id": "1a9fb192-64dd-4378-9813-23b73b5b4cdb",
   "metadata": {},
   "outputs": [
    {
     "name": "stderr",
     "output_type": "stream",
     "text": [
      "── \u001b[1mAttaching packages\u001b[22m ─────────────────────────────────────── tidyverse 1.3.1 ──\n",
      "\n",
      "\u001b[32m✔\u001b[39m \u001b[34mggplot2\u001b[39m 3.3.6     \u001b[32m✔\u001b[39m \u001b[34mpurrr  \u001b[39m 0.3.4\n",
      "\u001b[32m✔\u001b[39m \u001b[34mtibble \u001b[39m 3.1.7     \u001b[32m✔\u001b[39m \u001b[34mdplyr  \u001b[39m 1.0.9\n",
      "\u001b[32m✔\u001b[39m \u001b[34mtidyr  \u001b[39m 1.2.0     \u001b[32m✔\u001b[39m \u001b[34mstringr\u001b[39m 1.4.0\n",
      "\u001b[32m✔\u001b[39m \u001b[34mreadr  \u001b[39m 2.1.2     \u001b[32m✔\u001b[39m \u001b[34mforcats\u001b[39m 0.5.1\n",
      "\n",
      "── \u001b[1mConflicts\u001b[22m ────────────────────────────────────────── tidyverse_conflicts() ──\n",
      "\u001b[31m✖\u001b[39m \u001b[34mdplyr\u001b[39m::\u001b[32mfilter()\u001b[39m masks \u001b[34mstats\u001b[39m::filter()\n",
      "\u001b[31m✖\u001b[39m \u001b[34mdplyr\u001b[39m::\u001b[32mlag()\u001b[39m    masks \u001b[34mstats\u001b[39m::lag()\n",
      "\n",
      "── \u001b[1mAttaching packages\u001b[22m ────────────────────────────────────── tidymodels 1.0.0 ──\n",
      "\n",
      "\u001b[32m✔\u001b[39m \u001b[34mbroom       \u001b[39m 1.0.0     \u001b[32m✔\u001b[39m \u001b[34mrsample     \u001b[39m 1.0.0\n",
      "\u001b[32m✔\u001b[39m \u001b[34mdials       \u001b[39m 1.0.0     \u001b[32m✔\u001b[39m \u001b[34mtune        \u001b[39m 1.0.0\n",
      "\u001b[32m✔\u001b[39m \u001b[34minfer       \u001b[39m 1.0.2     \u001b[32m✔\u001b[39m \u001b[34mworkflows   \u001b[39m 1.0.0\n",
      "\u001b[32m✔\u001b[39m \u001b[34mmodeldata   \u001b[39m 1.0.0     \u001b[32m✔\u001b[39m \u001b[34mworkflowsets\u001b[39m 1.0.0\n",
      "\u001b[32m✔\u001b[39m \u001b[34mparsnip     \u001b[39m 1.0.0     \u001b[32m✔\u001b[39m \u001b[34myardstick   \u001b[39m 1.0.0\n",
      "\u001b[32m✔\u001b[39m \u001b[34mrecipes     \u001b[39m 1.0.1     \n",
      "\n",
      "── \u001b[1mConflicts\u001b[22m ───────────────────────────────────────── tidymodels_conflicts() ──\n",
      "\u001b[31m✖\u001b[39m \u001b[34mscales\u001b[39m::\u001b[32mdiscard()\u001b[39m masks \u001b[34mpurrr\u001b[39m::discard()\n",
      "\u001b[31m✖\u001b[39m \u001b[34mdplyr\u001b[39m::\u001b[32mfilter()\u001b[39m   masks \u001b[34mstats\u001b[39m::filter()\n",
      "\u001b[31m✖\u001b[39m \u001b[34mrecipes\u001b[39m::\u001b[32mfixed()\u001b[39m  masks \u001b[34mstringr\u001b[39m::fixed()\n",
      "\u001b[31m✖\u001b[39m \u001b[34mdplyr\u001b[39m::\u001b[32mlag()\u001b[39m      masks \u001b[34mstats\u001b[39m::lag()\n",
      "\u001b[31m✖\u001b[39m \u001b[34myardstick\u001b[39m::\u001b[32mspec()\u001b[39m masks \u001b[34mreadr\u001b[39m::spec()\n",
      "\u001b[31m✖\u001b[39m \u001b[34mrecipes\u001b[39m::\u001b[32mstep()\u001b[39m   masks \u001b[34mstats\u001b[39m::step()\n",
      "\u001b[34m•\u001b[39m Use suppressPackageStartupMessages() to eliminate package startup messages\n",
      "\n"
     ]
    }
   ],
   "source": [
    "library(repr)\n",
    "library(tidyverse)\n",
    "library(tidymodels)\n",
    "options(repr.matrix.max.rows = 6) #limits output of dataframes to 6 row"
   ]
  },
  {
   "cell_type": "code",
   "execution_count": 2,
   "id": "6c7c14b3-1d35-4b89-a118-eeecb183848a",
   "metadata": {},
   "outputs": [
    {
     "name": "stderr",
     "output_type": "stream",
     "text": [
      "\u001b[1mRows: \u001b[22m\u001b[34m55\u001b[39m \u001b[1mColumns: \u001b[22m\u001b[34m2\u001b[39m\n",
      "\u001b[36m──\u001b[39m \u001b[1mColumn specification\u001b[22m \u001b[36m────────────────────────────────────────────────────────\u001b[39m\n",
      "\u001b[1mDelimiter:\u001b[22m \":\"\n",
      "\u001b[31mchr\u001b[39m (1): X2\n",
      "\u001b[32mdbl\u001b[39m (1): X1\n",
      "\n",
      "\u001b[36mℹ\u001b[39m Use `spec()` to retrieve the full column specification for this data.\n",
      "\u001b[36mℹ\u001b[39m Specify the column types or set `show_col_types = FALSE` to quiet this message.\n"
     ]
    },
    {
     "data": {
      "text/html": [
       "<table class=\"dataframe\">\n",
       "<caption>A tibble: 6 × 2</caption>\n",
       "<thead>\n",
       "\t<tr><th scope=col>QuestionNumber</th><th scope=col>Question</th></tr>\n",
       "\t<tr><th scope=col>&lt;dbl&gt;</th><th scope=col>&lt;chr&gt;</th></tr>\n",
       "</thead>\n",
       "<tbody>\n",
       "\t<tr><td> 2</td><td>I know we can ignore our differences, even if things get hard sometimes.                                              </td></tr>\n",
       "\t<tr><td> 6</td><td>We don't have time at home as partners.                                                                               </td></tr>\n",
       "\t<tr><td>11</td><td>I think that one day in the future, when I look back, I see that my spouse and I have been in harmony with each other.</td></tr>\n",
       "\t<tr><td>18</td><td>My spouse and I have similar ideas about how marriage should be                                                       </td></tr>\n",
       "\t<tr><td>26</td><td>I know my spouse's basic anxieties.                                                                                   </td></tr>\n",
       "\t<tr><td>40</td><td>We're just starting a discussion before I know what's going on.                                                       </td></tr>\n",
       "</tbody>\n",
       "</table>\n"
      ],
      "text/latex": [
       "A tibble: 6 × 2\n",
       "\\begin{tabular}{ll}\n",
       " QuestionNumber & Question\\\\\n",
       " <dbl> & <chr>\\\\\n",
       "\\hline\n",
       "\t  2 & I know we can ignore our differences, even if things get hard sometimes.                                              \\\\\n",
       "\t  6 & We don't have time at home as partners.                                                                               \\\\\n",
       "\t 11 & I think that one day in the future, when I look back, I see that my spouse and I have been in harmony with each other.\\\\\n",
       "\t 18 & My spouse and I have similar ideas about how marriage should be                                                       \\\\\n",
       "\t 26 & I know my spouse's basic anxieties.                                                                                   \\\\\n",
       "\t 40 & We're just starting a discussion before I know what's going on.                                                       \\\\\n",
       "\\end{tabular}\n"
      ],
      "text/markdown": [
       "\n",
       "A tibble: 6 × 2\n",
       "\n",
       "| QuestionNumber &lt;dbl&gt; | Question &lt;chr&gt; |\n",
       "|---|---|\n",
       "|  2 | I know we can ignore our differences, even if things get hard sometimes.                                               |\n",
       "|  6 | We don't have time at home as partners.                                                                                |\n",
       "| 11 | I think that one day in the future, when I look back, I see that my spouse and I have been in harmony with each other. |\n",
       "| 18 | My spouse and I have similar ideas about how marriage should be                                                        |\n",
       "| 26 | I know my spouse's basic anxieties.                                                                                    |\n",
       "| 40 | We're just starting a discussion before I know what's going on.                                                        |\n",
       "\n"
      ],
      "text/plain": [
       "  QuestionNumber\n",
       "1  2            \n",
       "2  6            \n",
       "3 11            \n",
       "4 18            \n",
       "5 26            \n",
       "6 40            \n",
       "  Question                                                                                                              \n",
       "1 I know we can ignore our differences, even if things get hard sometimes.                                              \n",
       "2 We don't have time at home as partners.                                                                               \n",
       "3 I think that one day in the future, when I look back, I see that my spouse and I have been in harmony with each other.\n",
       "4 My spouse and I have similar ideas about how marriage should be                                                       \n",
       "5 I know my spouse's basic anxieties.                                                                                   \n",
       "6 We're just starting a discussion before I know what's going on.                                                       "
      ]
     },
     "metadata": {},
     "output_type": "display_data"
    }
   ],
   "source": [
    "#Reading in the questions\n",
    "div_questions <- read_delim(\"https://raw.githubusercontent.com/shjuliay/group107/main/DivorceQuestions.txt\", delim = \":\", col_names = FALSE) %>%\n",
    "mutate(QuestionNumber = X1, Question = X2) %>%\n",
    "select(QuestionNumber, Question)\n",
    "#div_questions\n",
    "\n",
    "div_6questions <- div_questions %>%\n",
    "filter(QuestionNumber == 2 | QuestionNumber == 6 | QuestionNumber == 11 | QuestionNumber == 18 | QuestionNumber == 26 | QuestionNumber == 40)\n",
    "div_6questions"
   ]
  },
  {
   "cell_type": "markdown",
   "id": "4a1d3467-66ad-4ba6-9ffd-887e4de11ee8",
   "metadata": {},
   "source": [
    "PREMILINARY EXPLORATORY DATA ANALYSIS"
   ]
  },
  {
   "cell_type": "code",
   "execution_count": 3,
   "id": "5e760562-3c72-4a51-b4bb-78769302a5d7",
   "metadata": {},
   "outputs": [
    {
     "name": "stderr",
     "output_type": "stream",
     "text": [
      "\u001b[36mℹ\u001b[39m Using \u001b[34m\u001b[34m\"','\"\u001b[34m\u001b[39m as decimal and \u001b[34m\u001b[34m\"'.'\"\u001b[34m\u001b[39m as grouping mark. Use `read_delim()` for more control.\n",
      "\n",
      "\u001b[1mRows: \u001b[22m\u001b[34m170\u001b[39m \u001b[1mColumns: \u001b[22m\u001b[34m55\u001b[39m\n",
      "\u001b[36m──\u001b[39m \u001b[1mColumn specification\u001b[22m \u001b[36m────────────────────────────────────────────────────────\u001b[39m\n",
      "\u001b[1mDelimiter:\u001b[22m \";\"\n",
      "\u001b[32mdbl\u001b[39m (55): Atr1, Atr2, Atr3, Atr4, Atr5, Atr6, Atr7, Atr8, Atr9, Atr10, Atr11...\n",
      "\n",
      "\u001b[36mℹ\u001b[39m Use `spec()` to retrieve the full column specification for this data.\n",
      "\u001b[36mℹ\u001b[39m Specify the column types or set `show_col_types = FALSE` to quiet this message.\n"
     ]
    },
    {
     "data": {
      "text/html": [
       "'Divorce data:'"
      ],
      "text/latex": [
       "'Divorce data:'"
      ],
      "text/markdown": [
       "'Divorce data:'"
      ],
      "text/plain": [
       "[1] \"Divorce data:\""
      ]
     },
     "metadata": {},
     "output_type": "display_data"
    },
    {
     "data": {
      "text/html": [
       "<table class=\"dataframe\">\n",
       "<caption>A tibble: 170 × 7</caption>\n",
       "<thead>\n",
       "\t<tr><th scope=col>Atr2</th><th scope=col>Atr6</th><th scope=col>Atr11</th><th scope=col>Atr18</th><th scope=col>Atr26</th><th scope=col>Atr40</th><th scope=col>Divorced</th></tr>\n",
       "\t<tr><th scope=col>&lt;dbl&gt;</th><th scope=col>&lt;dbl&gt;</th><th scope=col>&lt;dbl&gt;</th><th scope=col>&lt;dbl&gt;</th><th scope=col>&lt;dbl&gt;</th><th scope=col>&lt;dbl&gt;</th><th scope=col>&lt;fct&gt;</th></tr>\n",
       "</thead>\n",
       "<tbody>\n",
       "\t<tr><td>2</td><td>0</td><td>1</td><td>0</td><td>0</td><td>3</td><td>1</td></tr>\n",
       "\t<tr><td>4</td><td>0</td><td>4</td><td>4</td><td>1</td><td>4</td><td>1</td></tr>\n",
       "\t<tr><td>2</td><td>3</td><td>3</td><td>3</td><td>2</td><td>3</td><td>1</td></tr>\n",
       "\t<tr><td>⋮</td><td>⋮</td><td>⋮</td><td>⋮</td><td>⋮</td><td>⋮</td><td>⋮</td></tr>\n",
       "\t<tr><td>1</td><td>0</td><td>0</td><td>0</td><td>1</td><td>2</td><td>0</td></tr>\n",
       "\t<tr><td>0</td><td>0</td><td>0</td><td>0</td><td>0</td><td>1</td><td>0</td></tr>\n",
       "\t<tr><td>0</td><td>0</td><td>0</td><td>0</td><td>0</td><td>0</td><td>0</td></tr>\n",
       "</tbody>\n",
       "</table>\n"
      ],
      "text/latex": [
       "A tibble: 170 × 7\n",
       "\\begin{tabular}{lllllll}\n",
       " Atr2 & Atr6 & Atr11 & Atr18 & Atr26 & Atr40 & Divorced\\\\\n",
       " <dbl> & <dbl> & <dbl> & <dbl> & <dbl> & <dbl> & <fct>\\\\\n",
       "\\hline\n",
       "\t 2 & 0 & 1 & 0 & 0 & 3 & 1\\\\\n",
       "\t 4 & 0 & 4 & 4 & 1 & 4 & 1\\\\\n",
       "\t 2 & 3 & 3 & 3 & 2 & 3 & 1\\\\\n",
       "\t ⋮ & ⋮ & ⋮ & ⋮ & ⋮ & ⋮ & ⋮\\\\\n",
       "\t 1 & 0 & 0 & 0 & 1 & 2 & 0\\\\\n",
       "\t 0 & 0 & 0 & 0 & 0 & 1 & 0\\\\\n",
       "\t 0 & 0 & 0 & 0 & 0 & 0 & 0\\\\\n",
       "\\end{tabular}\n"
      ],
      "text/markdown": [
       "\n",
       "A tibble: 170 × 7\n",
       "\n",
       "| Atr2 &lt;dbl&gt; | Atr6 &lt;dbl&gt; | Atr11 &lt;dbl&gt; | Atr18 &lt;dbl&gt; | Atr26 &lt;dbl&gt; | Atr40 &lt;dbl&gt; | Divorced &lt;fct&gt; |\n",
       "|---|---|---|---|---|---|---|\n",
       "| 2 | 0 | 1 | 0 | 0 | 3 | 1 |\n",
       "| 4 | 0 | 4 | 4 | 1 | 4 | 1 |\n",
       "| 2 | 3 | 3 | 3 | 2 | 3 | 1 |\n",
       "| ⋮ | ⋮ | ⋮ | ⋮ | ⋮ | ⋮ | ⋮ |\n",
       "| 1 | 0 | 0 | 0 | 1 | 2 | 0 |\n",
       "| 0 | 0 | 0 | 0 | 0 | 1 | 0 |\n",
       "| 0 | 0 | 0 | 0 | 0 | 0 | 0 |\n",
       "\n"
      ],
      "text/plain": [
       "    Atr2 Atr6 Atr11 Atr18 Atr26 Atr40 Divorced\n",
       "1   2    0    1     0     0     3     1       \n",
       "2   4    0    4     4     1     4     1       \n",
       "3   2    3    3     3     2     3     1       \n",
       "⋮   ⋮    ⋮    ⋮     ⋮     ⋮     ⋮     ⋮       \n",
       "168 1    0    0     0     1     2     0       \n",
       "169 0    0    0     0     0     1     0       \n",
       "170 0    0    0     0     0     0     0       "
      ]
     },
     "metadata": {},
     "output_type": "display_data"
    },
    {
     "data": {
      "text/html": [
       "'Mean answers for both divorced and not divorced:'"
      ],
      "text/latex": [
       "'Mean answers for both divorced and not divorced:'"
      ],
      "text/markdown": [
       "'Mean answers for both divorced and not divorced:'"
      ],
      "text/plain": [
       "[1] \"Mean answers for both divorced and not divorced:\""
      ]
     },
     "metadata": {},
     "output_type": "display_data"
    },
    {
     "data": {
      "text/html": [
       "<table class=\"dataframe\">\n",
       "<caption>A tibble: 1 × 6</caption>\n",
       "<thead>\n",
       "\t<tr><th scope=col>Atr2</th><th scope=col>Atr6</th><th scope=col>Atr11</th><th scope=col>Atr18</th><th scope=col>Atr26</th><th scope=col>Atr40</th></tr>\n",
       "\t<tr><th scope=col>&lt;dbl&gt;</th><th scope=col>&lt;dbl&gt;</th><th scope=col>&lt;dbl&gt;</th><th scope=col>&lt;dbl&gt;</th><th scope=col>&lt;dbl&gt;</th><th scope=col>&lt;dbl&gt;</th></tr>\n",
       "</thead>\n",
       "<tbody>\n",
       "\t<tr><td>1.652941</td><td>0.7470588</td><td>1.688235</td><td>1.517647</td><td>1.488235</td><td>1.870588</td></tr>\n",
       "</tbody>\n",
       "</table>\n"
      ],
      "text/latex": [
       "A tibble: 1 × 6\n",
       "\\begin{tabular}{llllll}\n",
       " Atr2 & Atr6 & Atr11 & Atr18 & Atr26 & Atr40\\\\\n",
       " <dbl> & <dbl> & <dbl> & <dbl> & <dbl> & <dbl>\\\\\n",
       "\\hline\n",
       "\t 1.652941 & 0.7470588 & 1.688235 & 1.517647 & 1.488235 & 1.870588\\\\\n",
       "\\end{tabular}\n"
      ],
      "text/markdown": [
       "\n",
       "A tibble: 1 × 6\n",
       "\n",
       "| Atr2 &lt;dbl&gt; | Atr6 &lt;dbl&gt; | Atr11 &lt;dbl&gt; | Atr18 &lt;dbl&gt; | Atr26 &lt;dbl&gt; | Atr40 &lt;dbl&gt; |\n",
       "|---|---|---|---|---|---|\n",
       "| 1.652941 | 0.7470588 | 1.688235 | 1.517647 | 1.488235 | 1.870588 |\n",
       "\n"
      ],
      "text/plain": [
       "  Atr2     Atr6      Atr11    Atr18    Atr26    Atr40   \n",
       "1 1.652941 0.7470588 1.688235 1.517647 1.488235 1.870588"
      ]
     },
     "metadata": {},
     "output_type": "display_data"
    },
    {
     "data": {
      "text/html": [
       "'Mean answers for divorced:'"
      ],
      "text/latex": [
       "'Mean answers for divorced:'"
      ],
      "text/markdown": [
       "'Mean answers for divorced:'"
      ],
      "text/plain": [
       "[1] \"Mean answers for divorced:\""
      ]
     },
     "metadata": {},
     "output_type": "display_data"
    },
    {
     "data": {
      "text/html": [
       "<table class=\"dataframe\">\n",
       "<caption>A tibble: 6 × 2</caption>\n",
       "<thead>\n",
       "\t<tr><th scope=col>Atribute</th><th scope=col>value</th></tr>\n",
       "\t<tr><th scope=col>&lt;chr&gt;</th><th scope=col>&lt;dbl&gt;</th></tr>\n",
       "</thead>\n",
       "<tbody>\n",
       "\t<tr><td>Atr2 </td><td>1.6529412</td></tr>\n",
       "\t<tr><td>Atr6 </td><td>0.7470588</td></tr>\n",
       "\t<tr><td>Atr11</td><td>1.6882353</td></tr>\n",
       "\t<tr><td>Atr18</td><td>1.5176471</td></tr>\n",
       "\t<tr><td>Atr26</td><td>1.4882353</td></tr>\n",
       "\t<tr><td>Atr40</td><td>1.8705882</td></tr>\n",
       "</tbody>\n",
       "</table>\n"
      ],
      "text/latex": [
       "A tibble: 6 × 2\n",
       "\\begin{tabular}{ll}\n",
       " Atribute & value\\\\\n",
       " <chr> & <dbl>\\\\\n",
       "\\hline\n",
       "\t Atr2  & 1.6529412\\\\\n",
       "\t Atr6  & 0.7470588\\\\\n",
       "\t Atr11 & 1.6882353\\\\\n",
       "\t Atr18 & 1.5176471\\\\\n",
       "\t Atr26 & 1.4882353\\\\\n",
       "\t Atr40 & 1.8705882\\\\\n",
       "\\end{tabular}\n"
      ],
      "text/markdown": [
       "\n",
       "A tibble: 6 × 2\n",
       "\n",
       "| Atribute &lt;chr&gt; | value &lt;dbl&gt; |\n",
       "|---|---|\n",
       "| Atr2  | 1.6529412 |\n",
       "| Atr6  | 0.7470588 |\n",
       "| Atr11 | 1.6882353 |\n",
       "| Atr18 | 1.5176471 |\n",
       "| Atr26 | 1.4882353 |\n",
       "| Atr40 | 1.8705882 |\n",
       "\n"
      ],
      "text/plain": [
       "  Atribute value    \n",
       "1 Atr2     1.6529412\n",
       "2 Atr6     0.7470588\n",
       "3 Atr11    1.6882353\n",
       "4 Atr18    1.5176471\n",
       "5 Atr26    1.4882353\n",
       "6 Atr40    1.8705882"
      ]
     },
     "metadata": {},
     "output_type": "display_data"
    },
    {
     "data": {
      "text/html": [
       "'Mean answers for not divorced:'"
      ],
      "text/latex": [
       "'Mean answers for not divorced:'"
      ],
      "text/markdown": [
       "'Mean answers for not divorced:'"
      ],
      "text/plain": [
       "[1] \"Mean answers for not divorced:\""
      ]
     },
     "metadata": {},
     "output_type": "display_data"
    },
    {
     "data": {
      "text/html": [
       "<table class=\"dataframe\">\n",
       "<caption>A tibble: 6 × 2</caption>\n",
       "<thead>\n",
       "\t<tr><th scope=col>Atribute</th><th scope=col>value</th></tr>\n",
       "\t<tr><th scope=col>&lt;chr&gt;</th><th scope=col>&lt;dbl&gt;</th></tr>\n",
       "</thead>\n",
       "<tbody>\n",
       "\t<tr><td>Atr2 </td><td>0.46511628</td></tr>\n",
       "\t<tr><td>Atr6 </td><td>0.37209302</td></tr>\n",
       "\t<tr><td>Atr11</td><td>0.19767442</td></tr>\n",
       "\t<tr><td>Atr18</td><td>0.09302326</td></tr>\n",
       "\t<tr><td>Atr26</td><td>0.19767442</td></tr>\n",
       "\t<tr><td>Atr40</td><td>0.20930233</td></tr>\n",
       "</tbody>\n",
       "</table>\n"
      ],
      "text/latex": [
       "A tibble: 6 × 2\n",
       "\\begin{tabular}{ll}\n",
       " Atribute & value\\\\\n",
       " <chr> & <dbl>\\\\\n",
       "\\hline\n",
       "\t Atr2  & 0.46511628\\\\\n",
       "\t Atr6  & 0.37209302\\\\\n",
       "\t Atr11 & 0.19767442\\\\\n",
       "\t Atr18 & 0.09302326\\\\\n",
       "\t Atr26 & 0.19767442\\\\\n",
       "\t Atr40 & 0.20930233\\\\\n",
       "\\end{tabular}\n"
      ],
      "text/markdown": [
       "\n",
       "A tibble: 6 × 2\n",
       "\n",
       "| Atribute &lt;chr&gt; | value &lt;dbl&gt; |\n",
       "|---|---|\n",
       "| Atr2  | 0.46511628 |\n",
       "| Atr6  | 0.37209302 |\n",
       "| Atr11 | 0.19767442 |\n",
       "| Atr18 | 0.09302326 |\n",
       "| Atr26 | 0.19767442 |\n",
       "| Atr40 | 0.20930233 |\n",
       "\n"
      ],
      "text/plain": [
       "  Atribute value     \n",
       "1 Atr2     0.46511628\n",
       "2 Atr6     0.37209302\n",
       "3 Atr11    0.19767442\n",
       "4 Atr18    0.09302326\n",
       "5 Atr26    0.19767442\n",
       "6 Atr40    0.20930233"
      ]
     },
     "metadata": {},
     "output_type": "display_data"
    },
    {
     "data": {
      "text/html": [
       "'No rows have missing data.'"
      ],
      "text/latex": [
       "'No rows have missing data.'"
      ],
      "text/markdown": [
       "'No rows have missing data.'"
      ],
      "text/plain": [
       "[1] \"No rows have missing data.\""
      ]
     },
     "metadata": {},
     "output_type": "display_data"
    }
   ],
   "source": [
    "#Reading in the data from github\n",
    "#link directly to zipped dataset: https://archive.ics.uci.edu/ml/machine-learning-databases/00497/\n",
    "#link to Center for Machine Learning and Intelligent Systems: https://archive.ics.uci.edu/ml/datasets/Divorce+Predictors+data+set\n",
    "#link to origional study: https://dergipark.org.tr/en/pub/nevsosbilen/issue/46568/549416\n",
    "div_data <- read_csv2(\"https://raw.githubusercontent.com/shjuliay/group107/main/divorce%20(1).csv\") %>%\n",
    "mutate(Divorced = as.factor(Class)) %>%\n",
    "select(Atr2, Atr6, Atr11, Atr18, Atr26, Atr40, Divorced)\n",
    "\n",
    "\"Divorce data:\"\n",
    "div_data\n",
    "\n",
    "#Creating a table of the number of divorced and not divorced\n",
    "div_sum <- div_data %>%\n",
    "group_by(Divorced) %>%\n",
    "    summarize(n = n())\n",
    "#div_sum\n",
    "\n",
    "\n",
    "#Creating a table for the mean answer for each question\n",
    "atr_sum <- div_data %>%\n",
    "select(Atr2, Atr6, Atr11, Atr18, Atr26, Atr40) %>%\n",
    "map_df(mean) \n",
    "\n",
    "\"Mean answers for both divorced and not divorced:\"\n",
    "atr_sum\n",
    "\n",
    "\n",
    "#Creating a table for the mean answer for each question: divorced\n",
    "sum_div <- div_data %>%\n",
    "select(-Divorced) %>%\n",
    "    map_df(mean)\n",
    "#sum_div\n",
    "\n",
    "sum_div_longer <- sum_div %>%\n",
    "pivot_longer(cols = (c(Atr2, Atr6, Atr11, Atr18, Atr26, Atr40)),\n",
    "             names_to = \"Atribute\")\n",
    "\n",
    "\"Mean answers for divorced:\"\n",
    "sum_div_longer\n",
    "\n",
    "\n",
    "#Creating a table for the mean answer for each question: not divorced\n",
    "sum_notdiv <- div_data %>%\n",
    "filter(Divorced == 0) %>%\n",
    "select(-Divorced) %>%\n",
    "    map_df(mean) \n",
    "#sum_notdiv\n",
    "\n",
    "sum_notdiv_longer <- sum_notdiv %>%\n",
    "pivot_longer(cols = (c(Atr2, Atr6, Atr11, Atr18, Atr26, Atr40)),\n",
    "             names_to = \"Atribute\")\n",
    "\n",
    "\"Mean answers for not divorced:\"\n",
    "sum_notdiv_longer\n",
    "\n",
    "\"No rows have missing data.\""
   ]
  },
  {
   "cell_type": "code",
   "execution_count": 4,
   "id": "98f4a041-4949-4a16-ae67-3c70ca61292c",
   "metadata": {},
   "outputs": [
    {
     "data": {
      "text/html": [
       "<table class=\"dataframe\">\n",
       "<caption>A tibble: 1 × 1</caption>\n",
       "<thead>\n",
       "\t<tr><th scope=col>value</th></tr>\n",
       "\t<tr><th scope=col>&lt;dbl&gt;</th></tr>\n",
       "</thead>\n",
       "<tbody>\n",
       "\t<tr><td>1.494118</td></tr>\n",
       "</tbody>\n",
       "</table>\n"
      ],
      "text/latex": [
       "A tibble: 1 × 1\n",
       "\\begin{tabular}{l}\n",
       " value\\\\\n",
       " <dbl>\\\\\n",
       "\\hline\n",
       "\t 1.494118\\\\\n",
       "\\end{tabular}\n"
      ],
      "text/markdown": [
       "\n",
       "A tibble: 1 × 1\n",
       "\n",
       "| value &lt;dbl&gt; |\n",
       "|---|\n",
       "| 1.494118 |\n",
       "\n"
      ],
      "text/plain": [
       "  value   \n",
       "1 1.494118"
      ]
     },
     "metadata": {},
     "output_type": "display_data"
    },
    {
     "data": {
      "image/png": "[encoded data removed]",
      "text/plain": [
       "plot without title"
      ]
     },
     "metadata": {
      "image/png": {
       "height": 420,
       "width": 420
      }
     },
     "output_type": "display_data"
    }
   ],
   "source": [
    "#creating visualizations of 6 predictor questions (divorced)\n",
    "sum_div_bar <- sum_div_longer %>%\n",
    "ggplot(aes(x = Atribute, y = value)) +\n",
    "geom_bar(stat = \"identity\") +\n",
    "labs(x = \"Questions\", y = \"Mean Answer\") +\n",
    "theme(text = element_text(size = 20)) +\n",
    "ggtitle(\"Mean Answers (divorced)\")\n",
    "sum_div_bar\n",
    "\n",
    "#sum of all attributes\n",
    "sum_div_longer |>\n",
    "select(value) |>\n",
    "map_df(mean)"
   ]
  },
  {
   "cell_type": "markdown",
   "id": "f3f72ed7-fe3d-45d0-9908-786bc2acb9df",
   "metadata": {},
   "source": [
    "Divorced graph demonstrates high values for Atr11, 18, 2, 26, and 40. Overall attribute mean is around 1.49. "
   ]
  },
  {
   "cell_type": "code",
   "execution_count": 5,
   "id": "82f593d4-ac35-4db3-a591-b584e64f1900",
   "metadata": {},
   "outputs": [
    {
     "data": {
      "text/html": [
       "<table class=\"dataframe\">\n",
       "<caption>A tibble: 1 × 1</caption>\n",
       "<thead>\n",
       "\t<tr><th scope=col>value</th></tr>\n",
       "\t<tr><th scope=col>&lt;dbl&gt;</th></tr>\n",
       "</thead>\n",
       "<tbody>\n",
       "\t<tr><td>0.255814</td></tr>\n",
       "</tbody>\n",
       "</table>\n"
      ],
      "text/latex": [
       "A tibble: 1 × 1\n",
       "\\begin{tabular}{l}\n",
       " value\\\\\n",
       " <dbl>\\\\\n",
       "\\hline\n",
       "\t 0.255814\\\\\n",
       "\\end{tabular}\n"
      ],
      "text/markdown": [
       "\n",
       "A tibble: 1 × 1\n",
       "\n",
       "| value &lt;dbl&gt; |\n",
       "|---|\n",
       "| 0.255814 |\n",
       "\n"
      ],
      "text/plain": [
       "  value   \n",
       "1 0.255814"
      ]
     },
     "metadata": {},
     "output_type": "display_data"
    },
    {
     "data": {
      "image/png": "[encoded data removed]",
      "text/plain": [
       "plot without title"
      ]
     },
     "metadata": {
      "image/png": {
       "height": 420,
       "width": 420
      }
     },
     "output_type": "display_data"
    }
   ],
   "source": [
    "#creating visualizations of 6 predictor questions (married)\n",
    "sum_notdiv_bar <- sum_notdiv_longer %>%\n",
    "ggplot(aes(x = Atribute, y = value)) +\n",
    "geom_bar(stat = \"identity\") +\n",
    "labs(x = \"Questions\", y = \"Mean Answer\") +\n",
    "theme(text = element_text(size = 20)) +\n",
    "ggtitle(\"Mean Answers (not divorced)\")\n",
    "sum_notdiv_bar\n",
    "\n",
    "sum_notdiv_longer |>\n",
    "select(value) |>\n",
    "map_df(mean)"
   ]
  },
  {
   "cell_type": "markdown",
   "id": "9ecba779-ca2e-4980-b5ef-a5a34a560cdc",
   "metadata": {},
   "source": [
    "Married graph demonstrates low means for Atr11, 18, 26, and 40. Sum of all attributes is lower, at around 0.26."
   ]
  },
  {
   "cell_type": "code",
   "execution_count": 6,
   "id": "6cd4ab44-4034-4dd0-bd5a-e8a4d3d52118",
   "metadata": {},
   "outputs": [
    {
     "data": {
      "text/html": [
       "<table class=\"dataframe\">\n",
       "<caption>A tibble: 95 × 7</caption>\n",
       "<thead>\n",
       "\t<tr><th scope=col>Atr2</th><th scope=col>Atr6</th><th scope=col>Atr11</th><th scope=col>Atr18</th><th scope=col>Atr26</th><th scope=col>Atr40</th><th scope=col>Divorced</th></tr>\n",
       "\t<tr><th scope=col>&lt;dbl&gt;</th><th scope=col>&lt;dbl&gt;</th><th scope=col>&lt;dbl&gt;</th><th scope=col>&lt;dbl&gt;</th><th scope=col>&lt;dbl&gt;</th><th scope=col>&lt;dbl&gt;</th><th scope=col>&lt;fct&gt;</th></tr>\n",
       "</thead>\n",
       "<tbody>\n",
       "\t<tr><td>0</td><td>0</td><td>0</td><td>0</td><td>0</td><td>0</td><td>0</td></tr>\n",
       "\t<tr><td>0</td><td>0</td><td>0</td><td>0</td><td>0</td><td>0</td><td>0</td></tr>\n",
       "\t<tr><td>0</td><td>0</td><td>0</td><td>0</td><td>1</td><td>0</td><td>0</td></tr>\n",
       "\t<tr><td>⋮</td><td>⋮</td><td>⋮</td><td>⋮</td><td>⋮</td><td>⋮</td><td>⋮</td></tr>\n",
       "\t<tr><td>2</td><td>3</td><td>1</td><td>3</td><td>3</td><td>4</td><td>1</td></tr>\n",
       "\t<tr><td>0</td><td>2</td><td>2</td><td>3</td><td>0</td><td>3</td><td>1</td></tr>\n",
       "\t<tr><td>4</td><td>0</td><td>4</td><td>4</td><td>2</td><td>3</td><td>1</td></tr>\n",
       "</tbody>\n",
       "</table>\n"
      ],
      "text/latex": [
       "A tibble: 95 × 7\n",
       "\\begin{tabular}{lllllll}\n",
       " Atr2 & Atr6 & Atr11 & Atr18 & Atr26 & Atr40 & Divorced\\\\\n",
       " <dbl> & <dbl> & <dbl> & <dbl> & <dbl> & <dbl> & <fct>\\\\\n",
       "\\hline\n",
       "\t 0 & 0 & 0 & 0 & 0 & 0 & 0\\\\\n",
       "\t 0 & 0 & 0 & 0 & 0 & 0 & 0\\\\\n",
       "\t 0 & 0 & 0 & 0 & 1 & 0 & 0\\\\\n",
       "\t ⋮ & ⋮ & ⋮ & ⋮ & ⋮ & ⋮ & ⋮\\\\\n",
       "\t 2 & 3 & 1 & 3 & 3 & 4 & 1\\\\\n",
       "\t 0 & 2 & 2 & 3 & 0 & 3 & 1\\\\\n",
       "\t 4 & 0 & 4 & 4 & 2 & 3 & 1\\\\\n",
       "\\end{tabular}\n"
      ],
      "text/markdown": [
       "\n",
       "A tibble: 95 × 7\n",
       "\n",
       "| Atr2 &lt;dbl&gt; | Atr6 &lt;dbl&gt; | Atr11 &lt;dbl&gt; | Atr18 &lt;dbl&gt; | Atr26 &lt;dbl&gt; | Atr40 &lt;dbl&gt; | Divorced &lt;fct&gt; |\n",
       "|---|---|---|---|---|---|---|\n",
       "| 0 | 0 | 0 | 0 | 0 | 0 | 0 |\n",
       "| 0 | 0 | 0 | 0 | 0 | 0 | 0 |\n",
       "| 0 | 0 | 0 | 0 | 1 | 0 | 0 |\n",
       "| ⋮ | ⋮ | ⋮ | ⋮ | ⋮ | ⋮ | ⋮ |\n",
       "| 2 | 3 | 1 | 3 | 3 | 4 | 1 |\n",
       "| 0 | 2 | 2 | 3 | 0 | 3 | 1 |\n",
       "| 4 | 0 | 4 | 4 | 2 | 3 | 1 |\n",
       "\n"
      ],
      "text/plain": [
       "   Atr2 Atr6 Atr11 Atr18 Atr26 Atr40 Divorced\n",
       "1  0    0    0     0     0     0     0       \n",
       "2  0    0    0     0     0     0     0       \n",
       "3  0    0    0     0     1     0     0       \n",
       "⋮  ⋮    ⋮    ⋮     ⋮     ⋮     ⋮     ⋮       \n",
       "93 2    3    1     3     3     4     1       \n",
       "94 0    2    2     3     0     3     1       \n",
       "95 4    0    4     4     2     3     1       "
      ]
     },
     "metadata": {},
     "output_type": "display_data"
    },
    {
     "data": {
      "text/html": [
       "<table class=\"dataframe\">\n",
       "<caption>A tibble: 32 × 7</caption>\n",
       "<thead>\n",
       "\t<tr><th scope=col>Atr2</th><th scope=col>Atr6</th><th scope=col>Atr11</th><th scope=col>Atr18</th><th scope=col>Atr26</th><th scope=col>Atr40</th><th scope=col>Divorced</th></tr>\n",
       "\t<tr><th scope=col>&lt;dbl&gt;</th><th scope=col>&lt;dbl&gt;</th><th scope=col>&lt;dbl&gt;</th><th scope=col>&lt;dbl&gt;</th><th scope=col>&lt;dbl&gt;</th><th scope=col>&lt;dbl&gt;</th><th scope=col>&lt;fct&gt;</th></tr>\n",
       "</thead>\n",
       "<tbody>\n",
       "\t<tr><td>0</td><td>0</td><td>0</td><td>0</td><td>0</td><td>0</td><td>0</td></tr>\n",
       "\t<tr><td>1</td><td>0</td><td>0</td><td>0</td><td>1</td><td>0</td><td>0</td></tr>\n",
       "\t<tr><td>1</td><td>0</td><td>0</td><td>0</td><td>0</td><td>0</td><td>0</td></tr>\n",
       "\t<tr><td>⋮</td><td>⋮</td><td>⋮</td><td>⋮</td><td>⋮</td><td>⋮</td><td>⋮</td></tr>\n",
       "\t<tr><td>3</td><td>1</td><td>3</td><td>3</td><td>3</td><td>4</td><td>1</td></tr>\n",
       "\t<tr><td>2</td><td>2</td><td>3</td><td>2</td><td>2</td><td>4</td><td>1</td></tr>\n",
       "\t<tr><td>4</td><td>0</td><td>3</td><td>4</td><td>4</td><td>4</td><td>1</td></tr>\n",
       "</tbody>\n",
       "</table>\n"
      ],
      "text/latex": [
       "A tibble: 32 × 7\n",
       "\\begin{tabular}{lllllll}\n",
       " Atr2 & Atr6 & Atr11 & Atr18 & Atr26 & Atr40 & Divorced\\\\\n",
       " <dbl> & <dbl> & <dbl> & <dbl> & <dbl> & <dbl> & <fct>\\\\\n",
       "\\hline\n",
       "\t 0 & 0 & 0 & 0 & 0 & 0 & 0\\\\\n",
       "\t 1 & 0 & 0 & 0 & 1 & 0 & 0\\\\\n",
       "\t 1 & 0 & 0 & 0 & 0 & 0 & 0\\\\\n",
       "\t ⋮ & ⋮ & ⋮ & ⋮ & ⋮ & ⋮ & ⋮\\\\\n",
       "\t 3 & 1 & 3 & 3 & 3 & 4 & 1\\\\\n",
       "\t 2 & 2 & 3 & 2 & 2 & 4 & 1\\\\\n",
       "\t 4 & 0 & 3 & 4 & 4 & 4 & 1\\\\\n",
       "\\end{tabular}\n"
      ],
      "text/markdown": [
       "\n",
       "A tibble: 32 × 7\n",
       "\n",
       "| Atr2 &lt;dbl&gt; | Atr6 &lt;dbl&gt; | Atr11 &lt;dbl&gt; | Atr18 &lt;dbl&gt; | Atr26 &lt;dbl&gt; | Atr40 &lt;dbl&gt; | Divorced &lt;fct&gt; |\n",
       "|---|---|---|---|---|---|---|\n",
       "| 0 | 0 | 0 | 0 | 0 | 0 | 0 |\n",
       "| 1 | 0 | 0 | 0 | 1 | 0 | 0 |\n",
       "| 1 | 0 | 0 | 0 | 0 | 0 | 0 |\n",
       "| ⋮ | ⋮ | ⋮ | ⋮ | ⋮ | ⋮ | ⋮ |\n",
       "| 3 | 1 | 3 | 3 | 3 | 4 | 1 |\n",
       "| 2 | 2 | 3 | 2 | 2 | 4 | 1 |\n",
       "| 4 | 0 | 3 | 4 | 4 | 4 | 1 |\n",
       "\n"
      ],
      "text/plain": [
       "   Atr2 Atr6 Atr11 Atr18 Atr26 Atr40 Divorced\n",
       "1  0    0    0     0     0     0     0       \n",
       "2  1    0    0     0     1     0     0       \n",
       "3  1    0    0     0     0     0     0       \n",
       "⋮  ⋮    ⋮    ⋮     ⋮     ⋮     ⋮     ⋮       \n",
       "30 3    1    3     3     3     4     1       \n",
       "31 2    2    3     2     2     4     1       \n",
       "32 4    0    3     4     4     4     1       "
      ]
     },
     "metadata": {},
     "output_type": "display_data"
    }
   ],
   "source": [
    "#Creating a classification prediction model\n",
    "div_data_split <- div_data %>%\n",
    "    initial_split(prop = 0.75, strata = Divorced)\n",
    "\n",
    "#Splitting the data into training and testing\n",
    "div_testing <- testing(div_data_split)\n",
    "#div_testing\n",
    "div_training <- training(div_data_split)\n",
    "#div_training\n",
    "\n",
    "#Splitting the training into subtraining and subtesting\n",
    "div_training_split <- initial_split(div_training, prop = 0.75, strata = Divorced)\n",
    "div_subtraining <- training(div_training_split)\n",
    "div_subtraining\n",
    "div_subtesting <- testing(div_training_split)\n",
    "div_subtesting"
   ]
  },
  {
   "cell_type": "code",
   "execution_count": 7,
   "id": "f31bd896-32ae-4707-a467-2b418a0bd6a8",
   "metadata": {},
   "outputs": [
    {
     "name": "stderr",
     "output_type": "stream",
     "text": [
      "Warning message:\n",
      "“tune samples were requested but there were 95 rows in the data. 90 will be used.”\n"
     ]
    },
    {
     "data": {
      "text/html": [
       "<table class=\"dataframe\">\n",
       "<caption>A tibble: 30 × 7</caption>\n",
       "<thead>\n",
       "\t<tr><th scope=col>neighbors</th><th scope=col>.metric</th><th scope=col>.estimator</th><th scope=col>mean</th><th scope=col>n</th><th scope=col>std_err</th><th scope=col>.config</th></tr>\n",
       "\t<tr><th scope=col>&lt;dbl&gt;</th><th scope=col>&lt;chr&gt;</th><th scope=col>&lt;chr&gt;</th><th scope=col>&lt;dbl&gt;</th><th scope=col>&lt;int&gt;</th><th scope=col>&lt;dbl&gt;</th><th scope=col>&lt;chr&gt;</th></tr>\n",
       "</thead>\n",
       "<tbody>\n",
       "\t<tr><td>1</td><td>accuracy</td><td>binary</td><td>0.9663889</td><td>10</td><td>0.01721550</td><td>Preprocessor1_Model01</td></tr>\n",
       "\t<tr><td>3</td><td>accuracy</td><td>binary</td><td>0.9788889</td><td>10</td><td>0.01409842</td><td>Preprocessor1_Model02</td></tr>\n",
       "\t<tr><td>5</td><td>accuracy</td><td>binary</td><td>0.9788889</td><td>10</td><td>0.01409842</td><td>Preprocessor1_Model03</td></tr>\n",
       "\t<tr><td>⋮</td><td>⋮</td><td>⋮</td><td>⋮</td><td>⋮</td><td>⋮</td><td>⋮</td></tr>\n",
       "\t<tr><td>55</td><td>accuracy</td><td>binary</td><td>0.9788889</td><td>10</td><td>0.01409842</td><td>Preprocessor1_Model28</td></tr>\n",
       "\t<tr><td>57</td><td>accuracy</td><td>binary</td><td>0.9788889</td><td>10</td><td>0.01409842</td><td>Preprocessor1_Model29</td></tr>\n",
       "\t<tr><td>59</td><td>accuracy</td><td>binary</td><td>0.9788889</td><td>10</td><td>0.01409842</td><td>Preprocessor1_Model30</td></tr>\n",
       "</tbody>\n",
       "</table>\n"
      ],
      "text/latex": [
       "A tibble: 30 × 7\n",
       "\\begin{tabular}{lllllll}\n",
       " neighbors & .metric & .estimator & mean & n & std\\_err & .config\\\\\n",
       " <dbl> & <chr> & <chr> & <dbl> & <int> & <dbl> & <chr>\\\\\n",
       "\\hline\n",
       "\t 1 & accuracy & binary & 0.9663889 & 10 & 0.01721550 & Preprocessor1\\_Model01\\\\\n",
       "\t 3 & accuracy & binary & 0.9788889 & 10 & 0.01409842 & Preprocessor1\\_Model02\\\\\n",
       "\t 5 & accuracy & binary & 0.9788889 & 10 & 0.01409842 & Preprocessor1\\_Model03\\\\\n",
       "\t ⋮ & ⋮ & ⋮ & ⋮ & ⋮ & ⋮ & ⋮\\\\\n",
       "\t 55 & accuracy & binary & 0.9788889 & 10 & 0.01409842 & Preprocessor1\\_Model28\\\\\n",
       "\t 57 & accuracy & binary & 0.9788889 & 10 & 0.01409842 & Preprocessor1\\_Model29\\\\\n",
       "\t 59 & accuracy & binary & 0.9788889 & 10 & 0.01409842 & Preprocessor1\\_Model30\\\\\n",
       "\\end{tabular}\n"
      ],
      "text/markdown": [
       "\n",
       "A tibble: 30 × 7\n",
       "\n",
       "| neighbors &lt;dbl&gt; | .metric &lt;chr&gt; | .estimator &lt;chr&gt; | mean &lt;dbl&gt; | n &lt;int&gt; | std_err &lt;dbl&gt; | .config &lt;chr&gt; |\n",
       "|---|---|---|---|---|---|---|\n",
       "| 1 | accuracy | binary | 0.9663889 | 10 | 0.01721550 | Preprocessor1_Model01 |\n",
       "| 3 | accuracy | binary | 0.9788889 | 10 | 0.01409842 | Preprocessor1_Model02 |\n",
       "| 5 | accuracy | binary | 0.9788889 | 10 | 0.01409842 | Preprocessor1_Model03 |\n",
       "| ⋮ | ⋮ | ⋮ | ⋮ | ⋮ | ⋮ | ⋮ |\n",
       "| 55 | accuracy | binary | 0.9788889 | 10 | 0.01409842 | Preprocessor1_Model28 |\n",
       "| 57 | accuracy | binary | 0.9788889 | 10 | 0.01409842 | Preprocessor1_Model29 |\n",
       "| 59 | accuracy | binary | 0.9788889 | 10 | 0.01409842 | Preprocessor1_Model30 |\n",
       "\n"
      ],
      "text/plain": [
       "   neighbors .metric  .estimator mean      n  std_err    .config              \n",
       "1  1         accuracy binary     0.9663889 10 0.01721550 Preprocessor1_Model01\n",
       "2  3         accuracy binary     0.9788889 10 0.01409842 Preprocessor1_Model02\n",
       "3  5         accuracy binary     0.9788889 10 0.01409842 Preprocessor1_Model03\n",
       "⋮  ⋮         ⋮        ⋮          ⋮         ⋮  ⋮          ⋮                    \n",
       "28 55        accuracy binary     0.9788889 10 0.01409842 Preprocessor1_Model28\n",
       "29 57        accuracy binary     0.9788889 10 0.01409842 Preprocessor1_Model29\n",
       "30 59        accuracy binary     0.9788889 10 0.01409842 Preprocessor1_Model30"
      ]
     },
     "metadata": {},
     "output_type": "display_data"
    }
   ],
   "source": [
    "#Creating standardization recipe\n",
    "div_recipe <- recipe(Divorced ~., data = div_subtraining) %>%\n",
    "  step_scale(all_predictors()) %>%\n",
    "  step_center(all_predictors())\n",
    "\n",
    "#Creating the knn model\n",
    "knn_spec <- nearest_neighbor(weight_func = \"rectangular\", neighbors = tune()) %>%\n",
    "  set_engine(\"kknn\") %>%\n",
    "  set_mode(\"classification\")\n",
    "\n",
    "#Fit the knn model\n",
    "div_fit <- workflow() %>%\n",
    "  add_recipe(div_recipe) %>%\n",
    "  add_model(knn_spec) %>%\n",
    "  fit(data = div_subtraining)\n",
    "\n",
    "#Creating vfold\n",
    "\n",
    "div_vfold <- vfold_cv(div_subtraining, v = 10, strata = Divorced)\n",
    "#div_vfold\n",
    "\n",
    "k_vals <- tibble(neighbors = seq(from = 1, to = 60, by = 2))\n",
    "\n",
    "#Creating workflow \n",
    "knn_results <- workflow() %>%\n",
    "  add_recipe(div_recipe) %>%\n",
    "  add_model(knn_spec) %>%\n",
    "  tune_grid(resamples = div_vfold, grid = k_vals) %>%\n",
    "  collect_metrics() \n",
    "\n",
    "accuracies <- knn_results %>%\n",
    "  filter(.metric == \"accuracy\")\n",
    "accuracies"
   ]
  },
  {
   "cell_type": "code",
   "execution_count": 29,
   "id": "b9b17ba5-0a74-4c08-a510-bf5aa44bf39a",
   "metadata": {},
   "outputs": [
    {
     "name": "stderr",
     "output_type": "stream",
     "text": [
      "Warning message:\n",
      "“Removed 10 rows containing missing values (geom_point).”\n",
      "Warning message:\n",
      "“Removed 10 row(s) containing missing values (geom_path).”\n"
     ]
    },
    {
     "data": {
      "image/png": "[encoded data removed]",
      "text/plain": [
       "plot without title"
      ]
     },
     "metadata": {
      "image/png": {
       "height": 420,
       "width": 420
      }
     },
     "output_type": "display_data"
    }
   ],
   "source": [
    "accuracy_vs_k <- ggplot(accuracies, aes(x = neighbors, y = mean)) +\n",
    "  geom_point() +\n",
    "  geom_line() +\n",
    "  labs(x = \"Neighbors\", y = \"Accuracy Estimate\") + \n",
    "  theme(text = element_text(size = 12)) +\n",
    "  xlim(0, 40) +\n",
    "  ylim(.95, 1) +\n",
    "  ggtitle(\"Accuracy vs K\")\n",
    "\n",
    "accuracy_vs_k"
   ]
  },
  {
   "cell_type": "code",
   "execution_count": 30,
   "id": "3b1be6dd-c155-40ae-a8a2-b416fb7daa99",
   "metadata": {},
   "outputs": [
    {
     "data": {
      "text/html": [
       "<table class=\"dataframe\">\n",
       "<caption>A tibble: 43 × 8</caption>\n",
       "<thead>\n",
       "\t<tr><th scope=col>.pred_class</th><th scope=col>Atr2</th><th scope=col>Atr6</th><th scope=col>Atr11</th><th scope=col>Atr18</th><th scope=col>Atr26</th><th scope=col>Atr40</th><th scope=col>Divorced</th></tr>\n",
       "\t<tr><th scope=col>&lt;fct&gt;</th><th scope=col>&lt;dbl&gt;</th><th scope=col>&lt;dbl&gt;</th><th scope=col>&lt;dbl&gt;</th><th scope=col>&lt;dbl&gt;</th><th scope=col>&lt;dbl&gt;</th><th scope=col>&lt;dbl&gt;</th><th scope=col>&lt;fct&gt;</th></tr>\n",
       "</thead>\n",
       "<tbody>\n",
       "\t<tr><td>1</td><td>1</td><td>1</td><td>4</td><td>3</td><td>3</td><td>4</td><td>1</td></tr>\n",
       "\t<tr><td>1</td><td>2</td><td>4</td><td>3</td><td>3</td><td>3</td><td>2</td><td>1</td></tr>\n",
       "\t<tr><td>1</td><td>4</td><td>0</td><td>4</td><td>4</td><td>4</td><td>4</td><td>1</td></tr>\n",
       "\t<tr><td>⋮</td><td>⋮</td><td>⋮</td><td>⋮</td><td>⋮</td><td>⋮</td><td>⋮</td><td>⋮</td></tr>\n",
       "\t<tr><td>0</td><td>1</td><td>0</td><td>1</td><td>0</td><td>1</td><td>1</td><td>0</td></tr>\n",
       "\t<tr><td>0</td><td>1</td><td>1</td><td>1</td><td>1</td><td>0</td><td>0</td><td>0</td></tr>\n",
       "\t<tr><td>0</td><td>1</td><td>0</td><td>0</td><td>0</td><td>1</td><td>2</td><td>0</td></tr>\n",
       "</tbody>\n",
       "</table>\n"
      ],
      "text/latex": [
       "A tibble: 43 × 8\n",
       "\\begin{tabular}{llllllll}\n",
       " .pred\\_class & Atr2 & Atr6 & Atr11 & Atr18 & Atr26 & Atr40 & Divorced\\\\\n",
       " <fct> & <dbl> & <dbl> & <dbl> & <dbl> & <dbl> & <dbl> & <fct>\\\\\n",
       "\\hline\n",
       "\t 1 & 1 & 1 & 4 & 3 & 3 & 4 & 1\\\\\n",
       "\t 1 & 2 & 4 & 3 & 3 & 3 & 2 & 1\\\\\n",
       "\t 1 & 4 & 0 & 4 & 4 & 4 & 4 & 1\\\\\n",
       "\t ⋮ & ⋮ & ⋮ & ⋮ & ⋮ & ⋮ & ⋮ & ⋮\\\\\n",
       "\t 0 & 1 & 0 & 1 & 0 & 1 & 1 & 0\\\\\n",
       "\t 0 & 1 & 1 & 1 & 1 & 0 & 0 & 0\\\\\n",
       "\t 0 & 1 & 0 & 0 & 0 & 1 & 2 & 0\\\\\n",
       "\\end{tabular}\n"
      ],
      "text/markdown": [
       "\n",
       "A tibble: 43 × 8\n",
       "\n",
       "| .pred_class &lt;fct&gt; | Atr2 &lt;dbl&gt; | Atr6 &lt;dbl&gt; | Atr11 &lt;dbl&gt; | Atr18 &lt;dbl&gt; | Atr26 &lt;dbl&gt; | Atr40 &lt;dbl&gt; | Divorced &lt;fct&gt; |\n",
       "|---|---|---|---|---|---|---|---|\n",
       "| 1 | 1 | 1 | 4 | 3 | 3 | 4 | 1 |\n",
       "| 1 | 2 | 4 | 3 | 3 | 3 | 2 | 1 |\n",
       "| 1 | 4 | 0 | 4 | 4 | 4 | 4 | 1 |\n",
       "| ⋮ | ⋮ | ⋮ | ⋮ | ⋮ | ⋮ | ⋮ | ⋮ |\n",
       "| 0 | 1 | 0 | 1 | 0 | 1 | 1 | 0 |\n",
       "| 0 | 1 | 1 | 1 | 1 | 0 | 0 | 0 |\n",
       "| 0 | 1 | 0 | 0 | 0 | 1 | 2 | 0 |\n",
       "\n"
      ],
      "text/plain": [
       "   .pred_class Atr2 Atr6 Atr11 Atr18 Atr26 Atr40 Divorced\n",
       "1  1           1    1    4     3     3     4     1       \n",
       "2  1           2    4    3     3     3     2     1       \n",
       "3  1           4    0    4     4     4     4     1       \n",
       "⋮  ⋮           ⋮    ⋮    ⋮     ⋮     ⋮     ⋮     ⋮       \n",
       "41 0           1    0    1     0     1     1     0       \n",
       "42 0           1    1    1     1     0     0     0       \n",
       "43 0           1    0    0     0     1     2     0       "
      ]
     },
     "metadata": {},
     "output_type": "display_data"
    },
    {
     "data": {
      "text/plain": [
       "          Truth\n",
       "Prediction  0  1\n",
       "         0 22  0\n",
       "         1  0 21"
      ]
     },
     "metadata": {},
     "output_type": "display_data"
    },
    {
     "name": "stdout",
     "output_type": "stream",
     "text": [
      "[1] \"This means the predictions are accurate: only one person is incorrectly classified\"\n"
     ]
    }
   ],
   "source": [
    "div_predictions <- predict(div_fit, div_testing) %>%\n",
    "bind_cols(div_testing)\n",
    "div_predictions\n",
    "\n",
    "div_conf_mat <- div_predictions %>%\n",
    "    conf_mat(truth = Divorced, estimate = .pred_class)\n",
    "div_conf_mat\n",
    "print(\"This means the predictions are accurate: only one(no?)!!! person is incorrectly classified\")"
   ]
  },
  {
   "cell_type": "code",
   "execution_count": 31,
   "id": "e84a7b46-0d9e-4046-a2ed-cc495abbf1f0",
   "metadata": {},
   "outputs": [
    {
     "name": "stdout",
     "output_type": "stream",
     "text": [
      "[1] \"To see why this is the case, and to confirm our method is correct, we can check how the to be divorced and non-divorced people answered these questions:\"\n"
     ]
    },
    {
     "data": {
      "image/png": "[encoded data removed]",
      "text/plain": [
       "plot without title"
      ]
     },
     "metadata": {
      "image/png": {
       "height": 420,
       "width": 420
      }
     },
     "output_type": "display_data"
    },
    {
     "data": {
      "image/png": "[encoded data removed]",
      "text/plain": [
       "plot without title"
      ]
     },
     "metadata": {
      "image/png": {
       "height": 420,
       "width": 420
      }
     },
     "output_type": "display_data"
    },
    {
     "data": {
      "image/png": "[encoded data removed]",
      "text/plain": [
       "plot without title"
      ]
     },
     "metadata": {
      "image/png": {
       "height": 420,
       "width": 420
      }
     },
     "output_type": "display_data"
    },
    {
     "data": {
      "image/png": "[encoded data removed]",
      "text/plain": [
       "plot without title"
      ]
     },
     "metadata": {
      "image/png": {
       "height": 420,
       "width": 420
      }
     },
     "output_type": "display_data"
    },
    {
     "data": {
      "image/png": "[encoded data removed]",
      "text/plain": [
       "plot without title"
      ]
     },
     "metadata": {
      "image/png": {
       "height": 420,
       "width": 420
      }
     },
     "output_type": "display_data"
    },
    {
     "name": "stdout",
     "output_type": "stream",
     "text": [
      "[1] \"Evidently, there is a major difference in how the two groups answered and so it is very easy for our model to accuratly predict their class\"\n"
     ]
    },
    {
     "data": {
      "image/png": "[encoded data removed]",
      "text/plain": [
       "plot without title"
      ]
     },
     "metadata": {
      "image/png": {
       "height": 420,
       "width": 420
      }
     },
     "output_type": "display_data"
    }
   ],
   "source": [
    "#div_2 <- div_data %>%\n",
    "#    filter(Divorced == 1) %>%\n",
    "#    select(Atr2)\n",
    "#div_2_dist <- div_2 %>%\n",
    "#    ggplot(aes(x = Atr2)) +\n",
    "#    geom_histogram(binwidth = 1) +\n",
    "#    ggtitle(\"Q2 Answer Distribution: Divorced\")\n",
    "#div_2_dist\n",
    "\n",
    "#notdiv_2 <- div_data %>%\n",
    "#    filter(Divorced == 0) %>%\n",
    "#    select(Atr2)\n",
    "#notdiv_2_dist <- notdiv_2 %>%\n",
    "#    ggplot(aes(x = Atr2)) +\n",
    "#    geom_histogram(binwidth = 1) +\n",
    "#    ggtitle(\"Q2 Answer Distribution: Not Divorced\")\n",
    "#notdiv_2_dist\n",
    "\n",
    "#Visualizing how the two groups answered\n",
    "print(\"To see why this is the case, and to confirm our method is correct, we can check how the to be divorced and non-divorced people answered these questions:\")\n",
    "\n",
    "div_2_plot <- div_data %>%\n",
    "    select(Atr2, Divorced) %>%\n",
    "    ggplot(aes(x = Atr2)) +\n",
    "    geom_histogram(binwidth = 1) +\n",
    "facet_grid(cols = vars(Divorced))\n",
    "div_2_plot\n",
    "\n",
    "div_6_plot <- div_data %>%\n",
    "    select(Atr6, Divorced) %>%\n",
    "    ggplot(aes(x = Atr6)) +\n",
    "    geom_histogram(binwidth = 1) +\n",
    "facet_grid(cols = vars(Divorced))\n",
    "div_6_plot\n",
    "\n",
    "div_11_plot <- div_data %>%\n",
    "    select(Atr11, Divorced) %>%\n",
    "    ggplot(aes(x = Atr11)) +\n",
    "    geom_histogram(binwidth = 1) +\n",
    "facet_grid(cols = vars(Divorced))\n",
    "div_11_plot\n",
    "\n",
    "div_18_plot <- div_data %>%\n",
    "    select(Atr18, Divorced) %>%\n",
    "    ggplot(aes(x = Atr18)) +\n",
    "    geom_histogram(binwidth = 1) +\n",
    "facet_grid(cols = vars(Divorced))\n",
    "div_18_plot\n",
    "\n",
    "div_26_plot <- div_data %>%\n",
    "    select(Atr26, Divorced) %>%\n",
    "    ggplot(aes(x = Atr26)) +\n",
    "    geom_histogram(binwidth = 1) +\n",
    "facet_grid(cols = vars(Divorced))\n",
    "div_26_plot\n",
    "\n",
    "div_40_plot <- div_data %>%\n",
    "    select(Atr40, Divorced) %>%\n",
    "    ggplot(aes(x = Atr40)) +\n",
    "    geom_histogram(binwidth = 1) +\n",
    "facet_grid(cols = vars(Divorced))\n",
    "div_40_plot\n",
    "\n",
    "print(\"Evidently, there is a major difference in how the two groups answered and so it is very easy for our model to accuratly predict their class\")"
   ]
  },
  {
   "cell_type": "code",
   "execution_count": null,
   "id": "09da341d-04d7-4abf-a40c-6001d4ab5857",
   "metadata": {},
   "outputs": [],
   "source": [
    "#-----------------------------------------------------------\n",
    "#Finding prediction accuracy"
   ]
  },
  {
   "cell_type": "code",
   "execution_count": null,
   "id": "e3032147-9cf2-4bf0-831e-4d94e908e447",
   "metadata": {},
   "outputs": [],
   "source": [
    "#-----------------------------------------------------------\n",
    "#Bootstraping to find level of confidence"
   ]
  },
  {
   "cell_type": "markdown",
   "id": "64dd125c-894c-46be-8b9f-c70304fc79e8",
   "metadata": {
    "tags": []
   },
   "source": [
    "METHODS\n",
    "\n",
    "1. Load, clean, and wrangle data into a tidy format. Use questions 2, 6, 11, 18, 26, and 40 (based on their significance).\n",
    "2. Graph data to make inferences.\n",
    "3. Split data into training(¾) and testing data(¼) set, with roughly 51% of the data from class 1 (divorced), and 49% from class 0 (married). \n",
    "4. Train classifier and use cross-validation to find the best k-value.\n",
    "5. Use Test data and check accuracy\n",
    "\n",
    "To visualize our dataset, we will use a comparative bar plot that signifies the comparison between the 6 attributes chosen. There will be two different graphs representing the divorced and the non-divorced couples. We are using a bar plot because it summarizes an enormous amount of data with each data category being represented by its frequency distribution. Moreover, it will allow easy identification of patterns to make inferences. \n"
   ]
  },
  {
   "cell_type": "markdown",
   "id": "0367c1a4-0627-4ef8-abc7-6fa135cb0fb3",
   "metadata": {},
   "source": [
    "EXPECTED OUTCOMES and SIGNIFICANCE\n",
    "\n",
    "The impact of such findings could point out early signs of marriage tension as well as lack of communication between the partners allowing the couple to seek counseling. The scores will help therapists and counselors understand the relationship in depth, and formulate cases and intervention plans. Our expectations were that the attributes between married and divorced couples would be of similar scale however, the scale difference was notorious. On the other hand, some future questions that would arise are why would the attribute cause such polarizing opinions between divorced and non-divorced couples? Thus we find where is the breaking point that would lead a married couple to give such importance to an attribute that would lead to their divorce."
   ]
  }
 ],
 "metadata": {
  "kernelspec": {
   "display_name": "R",
   "language": "R",
   "name": "ir"
  },
  "language_info": {
   "codemirror_mode": "r",
   "file_extension": ".r",
   "mimetype": "text/x-r-source",
   "name": "R",
   "pygments_lexer": "r",
   "version": "4.1.3"
  }
 },
 "nbformat": 4,
 "nbformat_minor": 5
}
