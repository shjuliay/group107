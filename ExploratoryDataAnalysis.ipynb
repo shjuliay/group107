{
 "cells": [
  {
   "cell_type": "code",
   "execution_count": 2,
   "id": "1a9fb192-64dd-4378-9813-23b73b5b4cdb",
   "metadata": {},
   "outputs": [
    {
     "name": "stderr",
     "output_type": "stream",
     "text": [
      "── \u001b[1mAttaching packages\u001b[22m ─────────────────────────────────────── tidyverse 1.3.1 ──\n",
      "\n",
      "\u001b[32m✔\u001b[39m \u001b[34mggplot2\u001b[39m 3.3.6     \u001b[32m✔\u001b[39m \u001b[34mpurrr  \u001b[39m 0.3.4\n",
      "\u001b[32m✔\u001b[39m \u001b[34mtibble \u001b[39m 3.1.7     \u001b[32m✔\u001b[39m \u001b[34mdplyr  \u001b[39m 1.0.9\n",
      "\u001b[32m✔\u001b[39m \u001b[34mtidyr  \u001b[39m 1.2.0     \u001b[32m✔\u001b[39m \u001b[34mstringr\u001b[39m 1.4.0\n",
      "\u001b[32m✔\u001b[39m \u001b[34mreadr  \u001b[39m 2.1.2     \u001b[32m✔\u001b[39m \u001b[34mforcats\u001b[39m 0.5.1\n",
      "\n",
      "── \u001b[1mConflicts\u001b[22m ────────────────────────────────────────── tidyverse_conflicts() ──\n",
      "\u001b[31m✖\u001b[39m \u001b[34mdplyr\u001b[39m::\u001b[32mfilter()\u001b[39m masks \u001b[34mstats\u001b[39m::filter()\n",
      "\u001b[31m✖\u001b[39m \u001b[34mdplyr\u001b[39m::\u001b[32mlag()\u001b[39m    masks \u001b[34mstats\u001b[39m::lag()\n",
      "\n",
      "Warning message in file(filename, \"r\", encoding = encoding):\n",
      "“cannot open file 'tests.R': No such file or directory”\n"
     ]
    },
    {
     "ename": "ERROR",
     "evalue": "Error in file(filename, \"r\", encoding = encoding): cannot open the connection\n",
     "output_type": "error",
     "traceback": [
      "Error in file(filename, \"r\", encoding = encoding): cannot open the connection\nTraceback:\n",
      "1. source(\"tests.R\")",
      "2. file(filename, \"r\", encoding = encoding)"
     ]
    }
   ],
   "source": [
    "library(repr)\n",
    "library(tidyverse)\n",
    "source(\"tests.R\")\n",
    "source(\"cleanup.R\")\n",
    "options(repr.matrix.max.rows = 6) #limits output of dataframes to 6 row"
   ]
  },
  {
   "cell_type": "code",
   "execution_count": 77,
   "id": "5e760562-3c72-4a51-b4bb-78769302a5d7",
   "metadata": {},
   "outputs": [
    {
     "name": "stderr",
     "output_type": "stream",
     "text": [
      "\u001b[36mℹ\u001b[39m Using \u001b[34m\u001b[34m\"','\"\u001b[34m\u001b[39m as decimal and \u001b[34m\u001b[34m\"'.'\"\u001b[34m\u001b[39m as grouping mark. Use `read_delim()` for more control.\n",
      "\n",
      "\u001b[1mRows: \u001b[22m\u001b[34m170\u001b[39m \u001b[1mColumns: \u001b[22m\u001b[34m55\u001b[39m\n",
      "\u001b[36m──\u001b[39m \u001b[1mColumn specification\u001b[22m \u001b[36m────────────────────────────────────────────────────────\u001b[39m\n",
      "\u001b[1mDelimiter:\u001b[22m \";\"\n",
      "\u001b[32mdbl\u001b[39m (55): Atr1, Atr2, Atr3, Atr4, Atr5, Atr6, Atr7, Atr8, Atr9, Atr10, Atr11...\n",
      "\n",
      "\u001b[36mℹ\u001b[39m Use `spec()` to retrieve the full column specification for this data.\n",
      "\u001b[36mℹ\u001b[39m Specify the column types or set `show_col_types = FALSE` to quiet this message.\n"
     ]
    },
    {
     "data": {
      "text/html": [
       "<table class=\"dataframe\">\n",
       "<caption>A tibble: 1 × 6</caption>\n",
       "<thead>\n",
       "\t<tr><th scope=col>Atr2</th><th scope=col>Atr6</th><th scope=col>Atr11</th><th scope=col>Atr18</th><th scope=col>Atr26</th><th scope=col>Atr40</th></tr>\n",
       "\t<tr><th scope=col>&lt;dbl&gt;</th><th scope=col>&lt;dbl&gt;</th><th scope=col>&lt;dbl&gt;</th><th scope=col>&lt;dbl&gt;</th><th scope=col>&lt;dbl&gt;</th><th scope=col>&lt;dbl&gt;</th></tr>\n",
       "</thead>\n",
       "<tbody>\n",
       "\t<tr><td>2.869048</td><td>1.130952</td><td>3.214286</td><td>2.97619</td><td>2.809524</td><td>3.571429</td></tr>\n",
       "</tbody>\n",
       "</table>\n"
      ],
      "text/latex": [
       "A tibble: 1 × 6\n",
       "\\begin{tabular}{llllll}\n",
       " Atr2 & Atr6 & Atr11 & Atr18 & Atr26 & Atr40\\\\\n",
       " <dbl> & <dbl> & <dbl> & <dbl> & <dbl> & <dbl>\\\\\n",
       "\\hline\n",
       "\t 2.869048 & 1.130952 & 3.214286 & 2.97619 & 2.809524 & 3.571429\\\\\n",
       "\\end{tabular}\n"
      ],
      "text/markdown": [
       "\n",
       "A tibble: 1 × 6\n",
       "\n",
       "| Atr2 &lt;dbl&gt; | Atr6 &lt;dbl&gt; | Atr11 &lt;dbl&gt; | Atr18 &lt;dbl&gt; | Atr26 &lt;dbl&gt; | Atr40 &lt;dbl&gt; |\n",
       "|---|---|---|---|---|---|\n",
       "| 2.869048 | 1.130952 | 3.214286 | 2.97619 | 2.809524 | 3.571429 |\n",
       "\n"
      ],
      "text/plain": [
       "  Atr2     Atr6     Atr11    Atr18   Atr26    Atr40   \n",
       "1 2.869048 1.130952 3.214286 2.97619 2.809524 3.571429"
      ]
     },
     "metadata": {},
     "output_type": "display_data"
    },
    {
     "data": {
      "text/html": [
       "<table class=\"dataframe\">\n",
       "<caption>A tibble: 6 × 2</caption>\n",
       "<thead>\n",
       "\t<tr><th scope=col>Atribute</th><th scope=col>value</th></tr>\n",
       "\t<tr><th scope=col>&lt;chr&gt;</th><th scope=col>&lt;dbl&gt;</th></tr>\n",
       "</thead>\n",
       "<tbody>\n",
       "\t<tr><td>Atr2 </td><td>2.869048</td></tr>\n",
       "\t<tr><td>Atr6 </td><td>1.130952</td></tr>\n",
       "\t<tr><td>Atr11</td><td>3.214286</td></tr>\n",
       "\t<tr><td>Atr18</td><td>2.976190</td></tr>\n",
       "\t<tr><td>Atr26</td><td>2.809524</td></tr>\n",
       "\t<tr><td>Atr40</td><td>3.571429</td></tr>\n",
       "</tbody>\n",
       "</table>\n"
      ],
      "text/latex": [
       "A tibble: 6 × 2\n",
       "\\begin{tabular}{ll}\n",
       " Atribute & value\\\\\n",
       " <chr> & <dbl>\\\\\n",
       "\\hline\n",
       "\t Atr2  & 2.869048\\\\\n",
       "\t Atr6  & 1.130952\\\\\n",
       "\t Atr11 & 3.214286\\\\\n",
       "\t Atr18 & 2.976190\\\\\n",
       "\t Atr26 & 2.809524\\\\\n",
       "\t Atr40 & 3.571429\\\\\n",
       "\\end{tabular}\n"
      ],
      "text/markdown": [
       "\n",
       "A tibble: 6 × 2\n",
       "\n",
       "| Atribute &lt;chr&gt; | value &lt;dbl&gt; |\n",
       "|---|---|\n",
       "| Atr2  | 2.869048 |\n",
       "| Atr6  | 1.130952 |\n",
       "| Atr11 | 3.214286 |\n",
       "| Atr18 | 2.976190 |\n",
       "| Atr26 | 2.809524 |\n",
       "| Atr40 | 3.571429 |\n",
       "\n"
      ],
      "text/plain": [
       "  Atribute value   \n",
       "1 Atr2     2.869048\n",
       "2 Atr6     1.130952\n",
       "3 Atr11    3.214286\n",
       "4 Atr18    2.976190\n",
       "5 Atr26    2.809524\n",
       "6 Atr40    3.571429"
      ]
     },
     "metadata": {},
     "output_type": "display_data"
    },
    {
     "data": {
      "text/html": [
       "<table class=\"dataframe\">\n",
       "<caption>A tibble: 6 × 2</caption>\n",
       "<thead>\n",
       "\t<tr><th scope=col>Atribute</th><th scope=col>value</th></tr>\n",
       "\t<tr><th scope=col>&lt;chr&gt;</th><th scope=col>&lt;dbl&gt;</th></tr>\n",
       "</thead>\n",
       "<tbody>\n",
       "\t<tr><td>Atr2 </td><td>0.46511628</td></tr>\n",
       "\t<tr><td>Atr6 </td><td>0.37209302</td></tr>\n",
       "\t<tr><td>Atr11</td><td>0.19767442</td></tr>\n",
       "\t<tr><td>Atr18</td><td>0.09302326</td></tr>\n",
       "\t<tr><td>Atr26</td><td>0.19767442</td></tr>\n",
       "\t<tr><td>Atr40</td><td>0.20930233</td></tr>\n",
       "</tbody>\n",
       "</table>\n"
      ],
      "text/latex": [
       "A tibble: 6 × 2\n",
       "\\begin{tabular}{ll}\n",
       " Atribute & value\\\\\n",
       " <chr> & <dbl>\\\\\n",
       "\\hline\n",
       "\t Atr2  & 0.46511628\\\\\n",
       "\t Atr6  & 0.37209302\\\\\n",
       "\t Atr11 & 0.19767442\\\\\n",
       "\t Atr18 & 0.09302326\\\\\n",
       "\t Atr26 & 0.19767442\\\\\n",
       "\t Atr40 & 0.20930233\\\\\n",
       "\\end{tabular}\n"
      ],
      "text/markdown": [
       "\n",
       "A tibble: 6 × 2\n",
       "\n",
       "| Atribute &lt;chr&gt; | value &lt;dbl&gt; |\n",
       "|---|---|\n",
       "| Atr2  | 0.46511628 |\n",
       "| Atr6  | 0.37209302 |\n",
       "| Atr11 | 0.19767442 |\n",
       "| Atr18 | 0.09302326 |\n",
       "| Atr26 | 0.19767442 |\n",
       "| Atr40 | 0.20930233 |\n",
       "\n"
      ],
      "text/plain": [
       "  Atribute value     \n",
       "1 Atr2     0.46511628\n",
       "2 Atr6     0.37209302\n",
       "3 Atr11    0.19767442\n",
       "4 Atr18    0.09302326\n",
       "5 Atr26    0.19767442\n",
       "6 Atr40    0.20930233"
      ]
     },
     "metadata": {},
     "output_type": "display_data"
    },
    {
     "ename": "ERROR",
     "evalue": "Error in xy.coords(x, y, recycle = TRUE, setLab = FALSE): argument \"x\" is missing, with no default\n",
     "output_type": "error",
     "traceback": [
      "Error in xy.coords(x, y, recycle = TRUE, setLab = FALSE): argument \"x\" is missing, with no default\nTraceback:\n",
      "1. theme(text_element = text(size = 20))",
      "2. find_args(..., complete = NULL, validate = NULL)",
      "3. modify_list(vals, list(..., ... = NULL))",
      "4. text(size = 20)",
      "5. text.default(size = 20)",
      "6. xy.coords(x, y, recycle = TRUE, setLab = FALSE)"
     ]
    },
    {
     "data": {
      "image/png": "[encoded data removed]",
      "text/plain": [
       "plot without title"
      ]
     },
     "metadata": {
      "image/png": {
       "height": 420,
       "width": 420
      }
     },
     "output_type": "display_data"
    }
   ],
   "source": [
    "#Reading in the data from github\n",
    "div_data <- read_csv2(\"https://raw.githubusercontent.com/shjuliay/group107/main/divorce%20(1).csv\") %>%\n",
    "mutate(Divorced = as.factor(Class)) %>%\n",
    "select(Atr2, Atr6, Atr11, Atr18, Atr26, Atr40, Divorced)\n",
    "#div_data\n",
    "\n",
    "#Creating a table of the number of divorced and not divorced\n",
    "div_sum <- div_data %>%\n",
    "group_by(Divorced) %>%\n",
    "    summarize(n = n())\n",
    "#div_sum\n",
    "\n",
    "\n",
    "#Creating a table for the mean answer for each question\n",
    "atr_sum <- div_data %>%\n",
    "select(Atr2, Atr6, Atr11, Atr18, Atr26, Atr40) %>%\n",
    "map_df(mean) \n",
    "#atr_sum\n",
    "\n",
    "\n",
    "\n",
    "sum_div <- div_data %>%\n",
    "filter(Divorced == 1) %>%\n",
    "select(-Divorced) %>%\n",
    "    map_df(mean)\n",
    "sum_div\n",
    "\n",
    "sum_div_longer <- sum_div %>%\n",
    "pivot_longer(cols = (c(Atr2, Atr6, Atr11, Atr18, Atr26, Atr40)),\n",
    "             names_to = \"Atribute\")\n",
    "sum_div_longer\n",
    "\n",
    "sum_notdiv <- div_data %>%\n",
    "filter(Divorced == 0) %>%\n",
    "select(-Divorced) %>%\n",
    "    map_df(mean) \n",
    "#sum_notdiv\n",
    "\n",
    "sum_notdiv_longer <- sum_notdiv %>%\n",
    "pivot_longer(cols = (c(Atr2, Atr6, Atr11, Atr18, Atr26, Atr40)),\n",
    "             names_to = \"Atribute\")\n",
    "sum_notdiv_longer\n",
    "\n",
    "#no rows have missing data\n",
    "\n",
    "#creating visualizations of 6 predictor questions\n",
    "sum_div_bar <- sum_div_longer %>%\n",
    "ggplot(aes(x = Atribute, y = value)) +\n",
    "geom_bar(stat = \"identity\") +\n",
    "ggtitle(\"Divorced\")\n",
    "sum_div_bar\n",
    "\n",
    "sum_notdiv_bar <- sum_notdiv_longer %>%\n",
    "ggplot(aes(x = Atribute, y = value)) +\n",
    "geom_bar(stat = \"identity\") +\n",
    "theme(text_element = text(size = 20)) +\n",
    "ggtitle(\"Not Divorced\")\n",
    "sum_notdiv_bar"
   ]
  },
  {
   "cell_type": "code",
   "execution_count": 71,
   "id": "6c6140b4-08e0-451e-b24d-c7fd60e942dd",
   "metadata": {},
   "outputs": [
    {
     "name": "stderr",
     "output_type": "stream",
     "text": [
      "\u001b[1mRows: \u001b[22m\u001b[34m55\u001b[39m \u001b[1mColumns: \u001b[22m\u001b[34m2\u001b[39m\n",
      "\u001b[36m──\u001b[39m \u001b[1mColumn specification\u001b[22m \u001b[36m────────────────────────────────────────────────────────\u001b[39m\n",
      "\u001b[1mDelimiter:\u001b[22m \":\"\n",
      "\u001b[31mchr\u001b[39m (1): X2\n",
      "\u001b[32mdbl\u001b[39m (1): X1\n",
      "\n",
      "\u001b[36mℹ\u001b[39m Use `spec()` to retrieve the full column specification for this data.\n",
      "\u001b[36mℹ\u001b[39m Specify the column types or set `show_col_types = FALSE` to quiet this message.\n"
     ]
    },
    {
     "data": {
      "text/html": [
       "<table class=\"dataframe\">\n",
       "<caption>A tibble: 6 × 2</caption>\n",
       "<thead>\n",
       "\t<tr><th scope=col>QuestionNumber</th><th scope=col>Question</th></tr>\n",
       "\t<tr><th scope=col>&lt;dbl&gt;</th><th scope=col>&lt;chr&gt;</th></tr>\n",
       "</thead>\n",
       "<tbody>\n",
       "\t<tr><td> 2</td><td>I know we can ignore our differences, even if things get hard sometimes.                                              </td></tr>\n",
       "\t<tr><td> 6</td><td>We don't have time at home as partners.                                                                               </td></tr>\n",
       "\t<tr><td>11</td><td>I think that one day in the future, when I look back, I see that my spouse and I have been in harmony with each other.</td></tr>\n",
       "\t<tr><td>18</td><td>My spouse and I have similar ideas about how marriage should be                                                       </td></tr>\n",
       "\t<tr><td>26</td><td>I know my spouse's basic anxieties.                                                                                   </td></tr>\n",
       "\t<tr><td>40</td><td>We're just starting a discussion before I know what's going on.                                                       </td></tr>\n",
       "</tbody>\n",
       "</table>\n"
      ],
      "text/latex": [
       "A tibble: 6 × 2\n",
       "\\begin{tabular}{ll}\n",
       " QuestionNumber & Question\\\\\n",
       " <dbl> & <chr>\\\\\n",
       "\\hline\n",
       "\t  2 & I know we can ignore our differences, even if things get hard sometimes.                                              \\\\\n",
       "\t  6 & We don't have time at home as partners.                                                                               \\\\\n",
       "\t 11 & I think that one day in the future, when I look back, I see that my spouse and I have been in harmony with each other.\\\\\n",
       "\t 18 & My spouse and I have similar ideas about how marriage should be                                                       \\\\\n",
       "\t 26 & I know my spouse's basic anxieties.                                                                                   \\\\\n",
       "\t 40 & We're just starting a discussion before I know what's going on.                                                       \\\\\n",
       "\\end{tabular}\n"
      ],
      "text/markdown": [
       "\n",
       "A tibble: 6 × 2\n",
       "\n",
       "| QuestionNumber &lt;dbl&gt; | Question &lt;chr&gt; |\n",
       "|---|---|\n",
       "|  2 | I know we can ignore our differences, even if things get hard sometimes.                                               |\n",
       "|  6 | We don't have time at home as partners.                                                                                |\n",
       "| 11 | I think that one day in the future, when I look back, I see that my spouse and I have been in harmony with each other. |\n",
       "| 18 | My spouse and I have similar ideas about how marriage should be                                                        |\n",
       "| 26 | I know my spouse's basic anxieties.                                                                                    |\n",
       "| 40 | We're just starting a discussion before I know what's going on.                                                        |\n",
       "\n"
      ],
      "text/plain": [
       "  QuestionNumber\n",
       "1  2            \n",
       "2  6            \n",
       "3 11            \n",
       "4 18            \n",
       "5 26            \n",
       "6 40            \n",
       "  Question                                                                                                              \n",
       "1 I know we can ignore our differences, even if things get hard sometimes.                                              \n",
       "2 We don't have time at home as partners.                                                                               \n",
       "3 I think that one day in the future, when I look back, I see that my spouse and I have been in harmony with each other.\n",
       "4 My spouse and I have similar ideas about how marriage should be                                                       \n",
       "5 I know my spouse's basic anxieties.                                                                                   \n",
       "6 We're just starting a discussion before I know what's going on.                                                       "
      ]
     },
     "metadata": {},
     "output_type": "display_data"
    }
   ],
   "source": [
    "#Reading in the questions\n",
    "div_questions <- read_delim(\"DivorceQuestions.txt\", delim = \":\", col_names = FALSE) %>%\n",
    "mutate(QuestionNumber = X1, Question = X2) %>%\n",
    "select(QuestionNumber, Question)\n",
    "#div_questions\n",
    "\n",
    "div_6questions <- div_questions %>%\n",
    "filter(QuestionNumber == 2 | QuestionNumber == 6 | QuestionNumber == 11 | QuestionNumber == 18 | QuestionNumber == 26 | QuestionNumber == 40)\n",
    "div_6questions"
   ]
  },
  {
   "cell_type": "code",
   "execution_count": null,
   "id": "daa7d182-1fb2-4de4-8b7e-e1cf5e31d437",
   "metadata": {},
   "outputs": [],
   "source": []
  }
 ],
 "metadata": {
  "kernelspec": {
   "display_name": "R",
   "language": "R",
   "name": "ir"
  },
  "language_info": {
   "codemirror_mode": "r",
   "file_extension": ".r",
   "mimetype": "text/x-r-source",
   "name": "R",
   "pygments_lexer": "r",
   "version": "4.1.3"
  }
 },
 "nbformat": 4,
 "nbformat_minor": 5
}
